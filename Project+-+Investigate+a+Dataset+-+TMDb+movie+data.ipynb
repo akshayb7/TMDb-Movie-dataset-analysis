{
 "cells": [
  {
   "cell_type": "markdown",
   "metadata": {},
   "source": [
    "# Project: Investigate a Dataset - TMDb movie data #"
   ]
  },
  {
   "cell_type": "markdown",
   "metadata": {},
   "source": [
    "## Introduction"
   ]
  },
  {
   "cell_type": "markdown",
   "metadata": {},
   "source": [
    "This data set contains information about 10,000 movies collected from The Movie Database (TMDb), including user ratings and revenue.\n",
    "\n",
    "    •\tCertain columns, like ‘cast’ and ‘genres’, contain multiple values separated by pipe (|) characters.\n",
    "    •\tThere are some odd characters in the ‘cast’ column. Don’t worry about cleaning them. You can leave them as is.\n",
    "    •\tThe final two columns ending with “_adj” show the budget and revenue of the movie in terms of 2010 dollars."
   ]
  },
  {
   "cell_type": "code",
   "execution_count": 1,
   "metadata": {
    "collapsed": true
   },
   "outputs": [],
   "source": [
    "import pandas as pd\n",
    "import numpy as np\n",
    "import matplotlib.pyplot as plt\n",
    "import seaborn as sns"
   ]
  },
  {
   "cell_type": "code",
   "execution_count": 2,
   "metadata": {
    "collapsed": false,
    "scrolled": true
   },
   "outputs": [
    {
     "data": {
      "text/html": [
       "<div>\n",
       "<table border=\"1\" class=\"dataframe\">\n",
       "  <thead>\n",
       "    <tr style=\"text-align: right;\">\n",
       "      <th></th>\n",
       "      <th>id</th>\n",
       "      <th>imdb_id</th>\n",
       "      <th>popularity</th>\n",
       "      <th>budget</th>\n",
       "      <th>revenue</th>\n",
       "      <th>original_title</th>\n",
       "      <th>cast</th>\n",
       "      <th>homepage</th>\n",
       "      <th>director</th>\n",
       "      <th>tagline</th>\n",
       "      <th>...</th>\n",
       "      <th>overview</th>\n",
       "      <th>runtime</th>\n",
       "      <th>genres</th>\n",
       "      <th>production_companies</th>\n",
       "      <th>release_date</th>\n",
       "      <th>vote_count</th>\n",
       "      <th>vote_average</th>\n",
       "      <th>release_year</th>\n",
       "      <th>budget_adj</th>\n",
       "      <th>revenue_adj</th>\n",
       "    </tr>\n",
       "  </thead>\n",
       "  <tbody>\n",
       "    <tr>\n",
       "      <th>0</th>\n",
       "      <td>135397</td>\n",
       "      <td>tt0369610</td>\n",
       "      <td>32.985763</td>\n",
       "      <td>150000000</td>\n",
       "      <td>1513528810</td>\n",
       "      <td>Jurassic World</td>\n",
       "      <td>Chris Pratt|Bryce Dallas Howard|Irrfan Khan|Vi...</td>\n",
       "      <td>http://www.jurassicworld.com/</td>\n",
       "      <td>Colin Trevorrow</td>\n",
       "      <td>The park is open.</td>\n",
       "      <td>...</td>\n",
       "      <td>Twenty-two years after the events of Jurassic ...</td>\n",
       "      <td>124</td>\n",
       "      <td>Action|Adventure|Science Fiction|Thriller</td>\n",
       "      <td>Universal Studios|Amblin Entertainment|Legenda...</td>\n",
       "      <td>6/9/15</td>\n",
       "      <td>5562</td>\n",
       "      <td>6.5</td>\n",
       "      <td>2015</td>\n",
       "      <td>1.379999e+08</td>\n",
       "      <td>1.392446e+09</td>\n",
       "    </tr>\n",
       "    <tr>\n",
       "      <th>1</th>\n",
       "      <td>76341</td>\n",
       "      <td>tt1392190</td>\n",
       "      <td>28.419936</td>\n",
       "      <td>150000000</td>\n",
       "      <td>378436354</td>\n",
       "      <td>Mad Max: Fury Road</td>\n",
       "      <td>Tom Hardy|Charlize Theron|Hugh Keays-Byrne|Nic...</td>\n",
       "      <td>http://www.madmaxmovie.com/</td>\n",
       "      <td>George Miller</td>\n",
       "      <td>What a Lovely Day.</td>\n",
       "      <td>...</td>\n",
       "      <td>An apocalyptic story set in the furthest reach...</td>\n",
       "      <td>120</td>\n",
       "      <td>Action|Adventure|Science Fiction|Thriller</td>\n",
       "      <td>Village Roadshow Pictures|Kennedy Miller Produ...</td>\n",
       "      <td>5/13/15</td>\n",
       "      <td>6185</td>\n",
       "      <td>7.1</td>\n",
       "      <td>2015</td>\n",
       "      <td>1.379999e+08</td>\n",
       "      <td>3.481613e+08</td>\n",
       "    </tr>\n",
       "    <tr>\n",
       "      <th>2</th>\n",
       "      <td>262500</td>\n",
       "      <td>tt2908446</td>\n",
       "      <td>13.112507</td>\n",
       "      <td>110000000</td>\n",
       "      <td>295238201</td>\n",
       "      <td>Insurgent</td>\n",
       "      <td>Shailene Woodley|Theo James|Kate Winslet|Ansel...</td>\n",
       "      <td>http://www.thedivergentseries.movie/#insurgent</td>\n",
       "      <td>Robert Schwentke</td>\n",
       "      <td>One Choice Can Destroy You</td>\n",
       "      <td>...</td>\n",
       "      <td>Beatrice Prior must confront her inner demons ...</td>\n",
       "      <td>119</td>\n",
       "      <td>Adventure|Science Fiction|Thriller</td>\n",
       "      <td>Summit Entertainment|Mandeville Films|Red Wago...</td>\n",
       "      <td>3/18/15</td>\n",
       "      <td>2480</td>\n",
       "      <td>6.3</td>\n",
       "      <td>2015</td>\n",
       "      <td>1.012000e+08</td>\n",
       "      <td>2.716190e+08</td>\n",
       "    </tr>\n",
       "  </tbody>\n",
       "</table>\n",
       "<p>3 rows × 21 columns</p>\n",
       "</div>"
      ],
      "text/plain": [
       "       id    imdb_id  popularity     budget     revenue      original_title  \\\n",
       "0  135397  tt0369610   32.985763  150000000  1513528810      Jurassic World   \n",
       "1   76341  tt1392190   28.419936  150000000   378436354  Mad Max: Fury Road   \n",
       "2  262500  tt2908446   13.112507  110000000   295238201           Insurgent   \n",
       "\n",
       "                                                cast  \\\n",
       "0  Chris Pratt|Bryce Dallas Howard|Irrfan Khan|Vi...   \n",
       "1  Tom Hardy|Charlize Theron|Hugh Keays-Byrne|Nic...   \n",
       "2  Shailene Woodley|Theo James|Kate Winslet|Ansel...   \n",
       "\n",
       "                                         homepage          director  \\\n",
       "0                   http://www.jurassicworld.com/   Colin Trevorrow   \n",
       "1                     http://www.madmaxmovie.com/     George Miller   \n",
       "2  http://www.thedivergentseries.movie/#insurgent  Robert Schwentke   \n",
       "\n",
       "                      tagline      ...       \\\n",
       "0           The park is open.      ...        \n",
       "1          What a Lovely Day.      ...        \n",
       "2  One Choice Can Destroy You      ...        \n",
       "\n",
       "                                            overview runtime  \\\n",
       "0  Twenty-two years after the events of Jurassic ...     124   \n",
       "1  An apocalyptic story set in the furthest reach...     120   \n",
       "2  Beatrice Prior must confront her inner demons ...     119   \n",
       "\n",
       "                                      genres  \\\n",
       "0  Action|Adventure|Science Fiction|Thriller   \n",
       "1  Action|Adventure|Science Fiction|Thriller   \n",
       "2         Adventure|Science Fiction|Thriller   \n",
       "\n",
       "                                production_companies release_date vote_count  \\\n",
       "0  Universal Studios|Amblin Entertainment|Legenda...       6/9/15       5562   \n",
       "1  Village Roadshow Pictures|Kennedy Miller Produ...      5/13/15       6185   \n",
       "2  Summit Entertainment|Mandeville Films|Red Wago...      3/18/15       2480   \n",
       "\n",
       "   vote_average  release_year    budget_adj   revenue_adj  \n",
       "0           6.5          2015  1.379999e+08  1.392446e+09  \n",
       "1           7.1          2015  1.379999e+08  3.481613e+08  \n",
       "2           6.3          2015  1.012000e+08  2.716190e+08  \n",
       "\n",
       "[3 rows x 21 columns]"
      ]
     },
     "execution_count": 2,
     "metadata": {},
     "output_type": "execute_result"
    }
   ],
   "source": [
    "imdb_db = pd.read_csv('tmdb-movies.csv')\n",
    "imdb_db.head(3)"
   ]
  },
  {
   "cell_type": "markdown",
   "metadata": {},
   "source": [
    "** We would like to try and find out the answers to the following questions by going through the data: **\n",
    "\n",
    "1) Total number of movies released from year to year?\n",
    "\n",
    "2) How does the budget and revenue of movies vary from year to year? What is the gross profit made by the industry based on the data available here? Is there a relation between the budget and revenue?\n",
    "\n",
    "3) Which are the most popular movies? Which are the highly rated movies? Is there a correlation between the popularity and ratings of the movies?\n",
    "\n",
    "4) Which genres of movies are released the most?\n",
    "\n",
    "5) Which director has directed the maximum number of movies?\n",
    "\n",
    "6) How does the runtime of movies vary?"
   ]
  },
  {
   "cell_type": "markdown",
   "metadata": {},
   "source": [
    "## Data Wrangling "
   ]
  },
  {
   "cell_type": "markdown",
   "metadata": {},
   "source": [
    "In this section of the report, we will load in the data, check for cleanliness, and then trim and clean the dataset for analysis."
   ]
  },
  {
   "cell_type": "code",
   "execution_count": 3,
   "metadata": {
    "collapsed": false
   },
   "outputs": [
    {
     "name": "stdout",
     "output_type": "stream",
     "text": [
      "<class 'pandas.core.frame.DataFrame'>\n",
      "RangeIndex: 10866 entries, 0 to 10865\n",
      "Data columns (total 21 columns):\n",
      "id                      10866 non-null int64\n",
      "imdb_id                 10856 non-null object\n",
      "popularity              10866 non-null float64\n",
      "budget                  10866 non-null int64\n",
      "revenue                 10866 non-null int64\n",
      "original_title          10866 non-null object\n",
      "cast                    10790 non-null object\n",
      "homepage                2936 non-null object\n",
      "director                10822 non-null object\n",
      "tagline                 8042 non-null object\n",
      "keywords                9373 non-null object\n",
      "overview                10862 non-null object\n",
      "runtime                 10866 non-null int64\n",
      "genres                  10843 non-null object\n",
      "production_companies    9836 non-null object\n",
      "release_date            10866 non-null object\n",
      "vote_count              10866 non-null int64\n",
      "vote_average            10866 non-null float64\n",
      "release_year            10866 non-null int64\n",
      "budget_adj              10866 non-null float64\n",
      "revenue_adj             10866 non-null float64\n",
      "dtypes: float64(4), int64(6), object(11)\n",
      "memory usage: 1.7+ MB\n"
     ]
    }
   ],
   "source": [
    "imdb_db.info()"
   ]
  },
  {
   "cell_type": "code",
   "execution_count": 4,
   "metadata": {
    "collapsed": false,
    "scrolled": false
   },
   "outputs": [
    {
     "data": {
      "text/html": [
       "<div>\n",
       "<table border=\"1\" class=\"dataframe\">\n",
       "  <thead>\n",
       "    <tr style=\"text-align: right;\">\n",
       "      <th></th>\n",
       "      <th>id</th>\n",
       "      <th>popularity</th>\n",
       "      <th>budget</th>\n",
       "      <th>revenue</th>\n",
       "      <th>runtime</th>\n",
       "      <th>vote_count</th>\n",
       "      <th>vote_average</th>\n",
       "      <th>release_year</th>\n",
       "      <th>budget_adj</th>\n",
       "      <th>revenue_adj</th>\n",
       "    </tr>\n",
       "  </thead>\n",
       "  <tbody>\n",
       "    <tr>\n",
       "      <th>count</th>\n",
       "      <td>10866.000000</td>\n",
       "      <td>10866.000000</td>\n",
       "      <td>1.086600e+04</td>\n",
       "      <td>1.086600e+04</td>\n",
       "      <td>10866.000000</td>\n",
       "      <td>10866.000000</td>\n",
       "      <td>10866.000000</td>\n",
       "      <td>10866.000000</td>\n",
       "      <td>1.086600e+04</td>\n",
       "      <td>1.086600e+04</td>\n",
       "    </tr>\n",
       "    <tr>\n",
       "      <th>mean</th>\n",
       "      <td>66064.177434</td>\n",
       "      <td>0.646441</td>\n",
       "      <td>1.462570e+07</td>\n",
       "      <td>3.982332e+07</td>\n",
       "      <td>102.070863</td>\n",
       "      <td>217.389748</td>\n",
       "      <td>5.974922</td>\n",
       "      <td>2001.322658</td>\n",
       "      <td>1.755104e+07</td>\n",
       "      <td>5.136436e+07</td>\n",
       "    </tr>\n",
       "    <tr>\n",
       "      <th>std</th>\n",
       "      <td>92130.136561</td>\n",
       "      <td>1.000185</td>\n",
       "      <td>3.091321e+07</td>\n",
       "      <td>1.170035e+08</td>\n",
       "      <td>31.381405</td>\n",
       "      <td>575.619058</td>\n",
       "      <td>0.935142</td>\n",
       "      <td>12.812941</td>\n",
       "      <td>3.430616e+07</td>\n",
       "      <td>1.446325e+08</td>\n",
       "    </tr>\n",
       "    <tr>\n",
       "      <th>min</th>\n",
       "      <td>5.000000</td>\n",
       "      <td>0.000065</td>\n",
       "      <td>0.000000e+00</td>\n",
       "      <td>0.000000e+00</td>\n",
       "      <td>0.000000</td>\n",
       "      <td>10.000000</td>\n",
       "      <td>1.500000</td>\n",
       "      <td>1960.000000</td>\n",
       "      <td>0.000000e+00</td>\n",
       "      <td>0.000000e+00</td>\n",
       "    </tr>\n",
       "    <tr>\n",
       "      <th>25%</th>\n",
       "      <td>10596.250000</td>\n",
       "      <td>0.207583</td>\n",
       "      <td>0.000000e+00</td>\n",
       "      <td>0.000000e+00</td>\n",
       "      <td>90.000000</td>\n",
       "      <td>17.000000</td>\n",
       "      <td>5.400000</td>\n",
       "      <td>1995.000000</td>\n",
       "      <td>0.000000e+00</td>\n",
       "      <td>0.000000e+00</td>\n",
       "    </tr>\n",
       "    <tr>\n",
       "      <th>50%</th>\n",
       "      <td>20669.000000</td>\n",
       "      <td>0.383856</td>\n",
       "      <td>0.000000e+00</td>\n",
       "      <td>0.000000e+00</td>\n",
       "      <td>99.000000</td>\n",
       "      <td>38.000000</td>\n",
       "      <td>6.000000</td>\n",
       "      <td>2006.000000</td>\n",
       "      <td>0.000000e+00</td>\n",
       "      <td>0.000000e+00</td>\n",
       "    </tr>\n",
       "    <tr>\n",
       "      <th>75%</th>\n",
       "      <td>75610.000000</td>\n",
       "      <td>0.713817</td>\n",
       "      <td>1.500000e+07</td>\n",
       "      <td>2.400000e+07</td>\n",
       "      <td>111.000000</td>\n",
       "      <td>145.750000</td>\n",
       "      <td>6.600000</td>\n",
       "      <td>2011.000000</td>\n",
       "      <td>2.085325e+07</td>\n",
       "      <td>3.369710e+07</td>\n",
       "    </tr>\n",
       "    <tr>\n",
       "      <th>max</th>\n",
       "      <td>417859.000000</td>\n",
       "      <td>32.985763</td>\n",
       "      <td>4.250000e+08</td>\n",
       "      <td>2.781506e+09</td>\n",
       "      <td>900.000000</td>\n",
       "      <td>9767.000000</td>\n",
       "      <td>9.200000</td>\n",
       "      <td>2015.000000</td>\n",
       "      <td>4.250000e+08</td>\n",
       "      <td>2.827124e+09</td>\n",
       "    </tr>\n",
       "  </tbody>\n",
       "</table>\n",
       "</div>"
      ],
      "text/plain": [
       "                  id    popularity        budget       revenue       runtime  \\\n",
       "count   10866.000000  10866.000000  1.086600e+04  1.086600e+04  10866.000000   \n",
       "mean    66064.177434      0.646441  1.462570e+07  3.982332e+07    102.070863   \n",
       "std     92130.136561      1.000185  3.091321e+07  1.170035e+08     31.381405   \n",
       "min         5.000000      0.000065  0.000000e+00  0.000000e+00      0.000000   \n",
       "25%     10596.250000      0.207583  0.000000e+00  0.000000e+00     90.000000   \n",
       "50%     20669.000000      0.383856  0.000000e+00  0.000000e+00     99.000000   \n",
       "75%     75610.000000      0.713817  1.500000e+07  2.400000e+07    111.000000   \n",
       "max    417859.000000     32.985763  4.250000e+08  2.781506e+09    900.000000   \n",
       "\n",
       "         vote_count  vote_average  release_year    budget_adj   revenue_adj  \n",
       "count  10866.000000  10866.000000  10866.000000  1.086600e+04  1.086600e+04  \n",
       "mean     217.389748      5.974922   2001.322658  1.755104e+07  5.136436e+07  \n",
       "std      575.619058      0.935142     12.812941  3.430616e+07  1.446325e+08  \n",
       "min       10.000000      1.500000   1960.000000  0.000000e+00  0.000000e+00  \n",
       "25%       17.000000      5.400000   1995.000000  0.000000e+00  0.000000e+00  \n",
       "50%       38.000000      6.000000   2006.000000  0.000000e+00  0.000000e+00  \n",
       "75%      145.750000      6.600000   2011.000000  2.085325e+07  3.369710e+07  \n",
       "max     9767.000000      9.200000   2015.000000  4.250000e+08  2.827124e+09  "
      ]
     },
     "execution_count": 4,
     "metadata": {},
     "output_type": "execute_result"
    }
   ],
   "source": [
    "imdb_db.describe()"
   ]
  },
  {
   "cell_type": "markdown",
   "metadata": {},
   "source": [
    "Checking to see if all the 10866 id's are unique or not.  "
   ]
  },
  {
   "cell_type": "code",
   "execution_count": 5,
   "metadata": {
    "collapsed": false
   },
   "outputs": [
    {
     "data": {
      "text/plain": [
       "10865"
      ]
     },
     "execution_count": 5,
     "metadata": {},
     "output_type": "execute_result"
    }
   ],
   "source": [
    "imdb_db['id'].unique().size"
   ]
  },
  {
   "cell_type": "markdown",
   "metadata": {},
   "source": [
    "So there is one account which is repeated in the database. Finding that one account from the database."
   ]
  },
  {
   "cell_type": "code",
   "execution_count": 6,
   "metadata": {
    "collapsed": false,
    "scrolled": true
   },
   "outputs": [
    {
     "data": {
      "text/plain": [
       "0    42194\n",
       "dtype: int64"
      ]
     },
     "execution_count": 6,
     "metadata": {},
     "output_type": "execute_result"
    }
   ],
   "source": [
    "#Finding the repeated value\n",
    "imdb_db['id'].mode()"
   ]
  },
  {
   "cell_type": "code",
   "execution_count": 7,
   "metadata": {
    "collapsed": false
   },
   "outputs": [
    {
     "data": {
      "text/plain": [
       "2089    42194\n",
       "2090    42194\n",
       "Name: id, dtype: int64"
      ]
     },
     "execution_count": 7,
     "metadata": {},
     "output_type": "execute_result"
    }
   ],
   "source": [
    "# Finding the row positions the repeated values correspond to\n",
    "imdb_db['id'][imdb_db['id']== 42194]"
   ]
  },
  {
   "cell_type": "code",
   "execution_count": 8,
   "metadata": {
    "collapsed": false
   },
   "outputs": [
    {
     "name": "stdout",
     "output_type": "stream",
     "text": [
      "TEKKEN\n",
      "Dwight H. Little\n",
      "\n",
      "TEKKEN\n",
      "Dwight H. Little\n"
     ]
    }
   ],
   "source": [
    "#Printing the information about the repeated values to see if they have same information\n",
    "print imdb_db.iloc[2089]['original_title']\n",
    "print imdb_db.iloc[2089]['director']\n",
    "print ''\n",
    "print imdb_db.iloc[2090]['original_title']\n",
    "print imdb_db.iloc[2090]['director']"
   ]
  },
  {
   "cell_type": "markdown",
   "metadata": {},
   "source": [
    "As both the entries are exactly same, therefore, the rows 2089 and 2090 are repeated entries and should be removed from the dataset."
   ]
  },
  {
   "cell_type": "code",
   "execution_count": 9,
   "metadata": {
    "collapsed": false
   },
   "outputs": [
    {
     "name": "stdout",
     "output_type": "stream",
     "text": [
      "TEKKEN\n",
      "Dwight H. Little\n",
      "\n",
      "The Conspirator\n",
      "Robert Redford\n"
     ]
    }
   ],
   "source": [
    "#removing repeated value and printing to see if it is removed from dataset or not\n",
    "imdb_db.drop(labels=2089,axis=0,inplace=True)\n",
    "print imdb_db.iloc[2089]['original_title']\n",
    "print imdb_db.iloc[2089]['director']\n",
    "print ''\n",
    "print imdb_db.iloc[2090]['original_title']\n",
    "print imdb_db.iloc[2090]['director']"
   ]
  },
  {
   "cell_type": "markdown",
   "metadata": {},
   "source": [
    "Next, checking if any integral or floating point value is NaN."
   ]
  },
  {
   "cell_type": "code",
   "execution_count": 10,
   "metadata": {
    "collapsed": false
   },
   "outputs": [
    {
     "data": {
      "text/plain": [
       "id                      False\n",
       "imdb_id                  True\n",
       "popularity              False\n",
       "budget                  False\n",
       "revenue                 False\n",
       "original_title          False\n",
       "cast                     True\n",
       "homepage                 True\n",
       "director                 True\n",
       "tagline                  True\n",
       "keywords                 True\n",
       "overview                 True\n",
       "runtime                 False\n",
       "genres                   True\n",
       "production_companies     True\n",
       "release_date            False\n",
       "vote_count              False\n",
       "vote_average            False\n",
       "release_year            False\n",
       "budget_adj              False\n",
       "revenue_adj             False\n",
       "dtype: bool"
      ]
     },
     "execution_count": 10,
     "metadata": {},
     "output_type": "execute_result"
    }
   ],
   "source": [
    "imdb_db.isnull().any()"
   ]
  },
  {
   "cell_type": "markdown",
   "metadata": {},
   "source": [
    "None of the integral or floating-point data has NaN values.Next converting the columns contaning strings with delimiters '|' into a list of the names in it.\n"
   ]
  },
  {
   "cell_type": "code",
   "execution_count": 11,
   "metadata": {
    "collapsed": true
   },
   "outputs": [],
   "source": [
    "def convert(element):\n",
    "    \"\"\"\n",
    "    Function to convert a string contaning '|' delimeter\n",
    "    to a pandas series\n",
    "    \"\"\"\n",
    "    return element.split(\"|\")"
   ]
  },
  {
   "cell_type": "code",
   "execution_count": 12,
   "metadata": {
    "collapsed": true
   },
   "outputs": [],
   "source": [
    "def convert_columns(database,column):\n",
    "    \"\"\"\n",
    "    Function to use apply method on the passed column of the database \n",
    "    and separate out the strings in the column to a list of names.\n",
    "    \n",
    "    database: pandas.DataFrame\n",
    "    column: name of the column in the DataFrame on which the function is to act\n",
    "    \"\"\"\n",
    "    return database[column].dropna().apply(convert)"
   ]
  },
  {
   "cell_type": "code",
   "execution_count": 13,
   "metadata": {
    "collapsed": true
   },
   "outputs": [],
   "source": [
    "# Updating the various columns contaning strings with delimiters '|' to a series of the names\n",
    "\n",
    "imdb_db['cast'] = convert_columns(imdb_db,'cast')\n",
    "imdb_db['genres'] = convert_columns(imdb_db,'genres')\n",
    "imdb_db['production_companies'] = convert_columns(imdb_db,'production_companies')"
   ]
  },
  {
   "cell_type": "code",
   "execution_count": 14,
   "metadata": {
    "collapsed": false
   },
   "outputs": [
    {
     "data": {
      "text/plain": [
       "0    [Chris Pratt, Bryce Dallas Howard, Irrfan Khan...\n",
       "1    [Tom Hardy, Charlize Theron, Hugh Keays-Byrne,...\n",
       "2    [Shailene Woodley, Theo James, Kate Winslet, A...\n",
       "3    [Harrison Ford, Mark Hamill, Carrie Fisher, Ad...\n",
       "4    [Vin Diesel, Paul Walker, Jason Statham, Miche...\n",
       "Name: cast, dtype: object"
      ]
     },
     "execution_count": 14,
     "metadata": {},
     "output_type": "execute_result"
    }
   ],
   "source": [
    "imdb_db['cast'].head()"
   ]
  },
  {
   "cell_type": "code",
   "execution_count": 15,
   "metadata": {
    "collapsed": false
   },
   "outputs": [
    {
     "data": {
      "text/plain": [
       "0    [Action, Adventure, Science Fiction, Thriller]\n",
       "1    [Action, Adventure, Science Fiction, Thriller]\n",
       "2            [Adventure, Science Fiction, Thriller]\n",
       "3     [Action, Adventure, Science Fiction, Fantasy]\n",
       "4                         [Action, Crime, Thriller]\n",
       "Name: genres, dtype: object"
      ]
     },
     "execution_count": 15,
     "metadata": {},
     "output_type": "execute_result"
    }
   ],
   "source": [
    "imdb_db['genres'].head()"
   ]
  },
  {
   "cell_type": "code",
   "execution_count": 16,
   "metadata": {
    "collapsed": false
   },
   "outputs": [
    {
     "data": {
      "text/plain": [
       "0    [Universal Studios, Amblin Entertainment, Lege...\n",
       "1    [Village Roadshow Pictures, Kennedy Miller Pro...\n",
       "2    [Summit Entertainment, Mandeville Films, Red W...\n",
       "3        [Lucasfilm, Truenorth Productions, Bad Robot]\n",
       "4    [Universal Pictures, Original Film, Media Righ...\n",
       "Name: production_companies, dtype: object"
      ]
     },
     "execution_count": 16,
     "metadata": {},
     "output_type": "execute_result"
    }
   ],
   "source": [
    "imdb_db['production_companies'].head()"
   ]
  },
  {
   "cell_type": "markdown",
   "metadata": {},
   "source": [
    "We can see that columns such as 'homepage', 'tagline','keywords', etc. have a lot less entries in comparision to the 'id' column but we are choosing to ignore it because those columns are not necessary for the analysis here.\n",
    "\n",
    "Similarly, the entries in the 'release_date' column are in string format rather than as a datetime entry, but we are not converting it to the datetime format as we will be using entries from the 'release_year' column for our analysis."
   ]
  },
  {
   "cell_type": "markdown",
   "metadata": {},
   "source": [
    "Next, we see if all the values in the 'revenue' and 'budget' columns are correctly mentioned and are not zero."
   ]
  },
  {
   "cell_type": "code",
   "execution_count": 17,
   "metadata": {
    "collapsed": false
   },
   "outputs": [
    {
     "data": {
      "text/plain": [
       "6016"
      ]
     },
     "execution_count": 17,
     "metadata": {},
     "output_type": "execute_result"
    }
   ],
   "source": [
    "# Getting number of movies for which values of revenue is equal to zero\n",
    "(imdb_db['revenue'] == 0).sum()"
   ]
  },
  {
   "cell_type": "code",
   "execution_count": 18,
   "metadata": {
    "collapsed": false
   },
   "outputs": [
    {
     "data": {
      "text/plain": [
       "5696"
      ]
     },
     "execution_count": 18,
     "metadata": {},
     "output_type": "execute_result"
    }
   ],
   "source": [
    "# Number of movies for which values of budget is equal to zero\n",
    "(imdb_db['budget']==0).sum()"
   ]
  },
  {
   "cell_type": "markdown",
   "metadata": {},
   "source": [
    "Therefore, it is noted that the columns 'revenue' and 'budget' contains zero as values and will be taken it into consideration when analysing them."
   ]
  },
  {
   "cell_type": "markdown",
   "metadata": {},
   "source": [
    "## Data Exploration "
   ]
  },
  {
   "cell_type": "markdown",
   "metadata": {},
   "source": [
    "In this section of the report, we will explore the available data in multiple ways. We will also compute statistics and create visualizations with the goal of addressing the research questions that were posed in the Introduction section."
   ]
  },
  {
   "cell_type": "markdown",
   "metadata": {},
   "source": [
    "### Number of movies released each year"
   ]
  },
  {
   "cell_type": "code",
   "execution_count": 19,
   "metadata": {
    "collapsed": false
   },
   "outputs": [
    {
     "data": {
      "text/plain": [
       "release_year\n",
       "1960     32\n",
       "1961     31\n",
       "1962     32\n",
       "1963     34\n",
       "1964     42\n",
       "1965     35\n",
       "1966     46\n",
       "1967     40\n",
       "1968     39\n",
       "1969     31\n",
       "1970     41\n",
       "1971     55\n",
       "1972     40\n",
       "1973     55\n",
       "1974     47\n",
       "1975     44\n",
       "1976     47\n",
       "1977     57\n",
       "1978     65\n",
       "1979     57\n",
       "1980     78\n",
       "1981     82\n",
       "1982     81\n",
       "1983     80\n",
       "1984    105\n",
       "1985    109\n",
       "1986    121\n",
       "1987    125\n",
       "1988    145\n",
       "1989    137\n",
       "1990    132\n",
       "1991    133\n",
       "1992    133\n",
       "1993    178\n",
       "1994    184\n",
       "1995    175\n",
       "1996    204\n",
       "1997    192\n",
       "1998    210\n",
       "1999    224\n",
       "2000    227\n",
       "2001    242\n",
       "2002    266\n",
       "2003    281\n",
       "2004    307\n",
       "2005    364\n",
       "2006    408\n",
       "2007    438\n",
       "2008    496\n",
       "2009    533\n",
       "2010    489\n",
       "2011    540\n",
       "2012    588\n",
       "2013    659\n",
       "2014    700\n",
       "2015    629\n",
       "Name: Number of movies, dtype: int64"
      ]
     },
     "execution_count": 19,
     "metadata": {},
     "output_type": "execute_result"
    }
   ],
   "source": [
    "#Grouping the movies with respect to their release years\n",
    "movies_per_year = imdb_db.groupby('release_year')\n",
    "movies_per_year_count = movies_per_year.agg({'vote_average':'count','budget':'sum','revenue':'sum'})\n",
    "movies_per_year_count.columns = ['Number of movies', 'Total Budget','Total Revenue']\n",
    "movies_per_year_count['Number of movies']"
   ]
  },
  {
   "cell_type": "markdown",
   "metadata": {},
   "source": [
    "Visualizing this through a histogram"
   ]
  },
  {
   "cell_type": "code",
   "execution_count": 20,
   "metadata": {
    "collapsed": true
   },
   "outputs": [],
   "source": [
    "%matplotlib inline"
   ]
  },
  {
   "cell_type": "code",
   "execution_count": 21,
   "metadata": {
    "collapsed": false
   },
   "outputs": [
    {
     "data": {
      "text/plain": [
       "<matplotlib.text.Text at 0xd28fda0>"
      ]
     },
     "execution_count": 21,
     "metadata": {},
     "output_type": "execute_result"
    },
    {
     "data": {
      "image/png": "[encoded data removed]",
      "text/plain": [
       "<matplotlib.figure.Figure at 0x66df3c8>"
      ]
     },
     "metadata": {},
     "output_type": "display_data"
    }
   ],
   "source": [
    "movies_per_year_count['Number of movies'].plot(kind='bar',title=\"Number of movies released per year\",\n",
    "                                         fontsize=8, legend = True, figsize=(9,7) )\n",
    "plt.ylabel(\"Number of movies\")\n",
    "plt.xlabel(\"Release Year\")"
   ]
  },
  {
   "cell_type": "markdown",
   "metadata": {},
   "source": [
    "So, we can concur that there is a general upward trend in the number of movie releases over the years. "
   ]
  },
  {
   "cell_type": "markdown",
   "metadata": {},
   "source": [
    "### Budget and revenue trend over the years "
   ]
  },
  {
   "cell_type": "code",
   "execution_count": 22,
   "metadata": {
    "collapsed": false
   },
   "outputs": [
    {
     "data": {
      "text/html": [
       "<div>\n",
       "<table border=\"1\" class=\"dataframe\">\n",
       "  <thead>\n",
       "    <tr style=\"text-align: right;\">\n",
       "      <th></th>\n",
       "      <th>Total Revenue</th>\n",
       "      <th>Total Budget</th>\n",
       "    </tr>\n",
       "    <tr>\n",
       "      <th>release_year</th>\n",
       "      <th></th>\n",
       "      <th></th>\n",
       "    </tr>\n",
       "  </thead>\n",
       "  <tbody>\n",
       "    <tr>\n",
       "      <th>1960</th>\n",
       "      <td>145005000</td>\n",
       "      <td>22056948</td>\n",
       "    </tr>\n",
       "    <tr>\n",
       "      <th>1961</th>\n",
       "      <td>337720188</td>\n",
       "      <td>46137000</td>\n",
       "    </tr>\n",
       "    <tr>\n",
       "      <th>1962</th>\n",
       "      <td>215579846</td>\n",
       "      <td>54722126</td>\n",
       "    </tr>\n",
       "    <tr>\n",
       "      <th>1963</th>\n",
       "      <td>187404989</td>\n",
       "      <td>73331500</td>\n",
       "    </tr>\n",
       "    <tr>\n",
       "      <th>1964</th>\n",
       "      <td>340981782</td>\n",
       "      <td>39483161</td>\n",
       "    </tr>\n",
       "    <tr>\n",
       "      <th>1965</th>\n",
       "      <td>458081854</td>\n",
       "      <td>70205115</td>\n",
       "    </tr>\n",
       "    <tr>\n",
       "      <th>1966</th>\n",
       "      <td>84736689</td>\n",
       "      <td>57554800</td>\n",
       "    </tr>\n",
       "    <tr>\n",
       "      <th>1967</th>\n",
       "      <td>737834637</td>\n",
       "      <td>100652200</td>\n",
       "    </tr>\n",
       "    <tr>\n",
       "      <th>1968</th>\n",
       "      <td>264732980</td>\n",
       "      <td>71939000</td>\n",
       "    </tr>\n",
       "    <tr>\n",
       "      <th>1969</th>\n",
       "      <td>243957076</td>\n",
       "      <td>42129087</td>\n",
       "    </tr>\n",
       "    <tr>\n",
       "      <th>1970</th>\n",
       "      <td>560221969</td>\n",
       "      <td>126966946</td>\n",
       "    </tr>\n",
       "    <tr>\n",
       "      <th>1971</th>\n",
       "      <td>404910610</td>\n",
       "      <td>75997000</td>\n",
       "    </tr>\n",
       "    <tr>\n",
       "      <th>1972</th>\n",
       "      <td>494730171</td>\n",
       "      <td>36279254</td>\n",
       "    </tr>\n",
       "    <tr>\n",
       "      <th>1973</th>\n",
       "      <td>1223981102</td>\n",
       "      <td>65190783</td>\n",
       "    </tr>\n",
       "    <tr>\n",
       "      <th>1974</th>\n",
       "      <td>812539818</td>\n",
       "      <td>76970000</td>\n",
       "    </tr>\n",
       "    <tr>\n",
       "      <th>1975</th>\n",
       "      <td>957489966</td>\n",
       "      <td>56279000</td>\n",
       "    </tr>\n",
       "    <tr>\n",
       "      <th>1976</th>\n",
       "      <td>801005600</td>\n",
       "      <td>122150000</td>\n",
       "    </tr>\n",
       "    <tr>\n",
       "      <th>1977</th>\n",
       "      <td>2180583159</td>\n",
       "      <td>161580000</td>\n",
       "    </tr>\n",
       "    <tr>\n",
       "      <th>1978</th>\n",
       "      <td>1369779659</td>\n",
       "      <td>208997011</td>\n",
       "    </tr>\n",
       "    <tr>\n",
       "      <th>1979</th>\n",
       "      <td>1684794913</td>\n",
       "      <td>254814000</td>\n",
       "    </tr>\n",
       "    <tr>\n",
       "      <th>1980</th>\n",
       "      <td>1768662387</td>\n",
       "      <td>362500000</td>\n",
       "    </tr>\n",
       "    <tr>\n",
       "      <th>1981</th>\n",
       "      <td>1774606236</td>\n",
       "      <td>373757786</td>\n",
       "    </tr>\n",
       "    <tr>\n",
       "      <th>1982</th>\n",
       "      <td>2458443852</td>\n",
       "      <td>437795002</td>\n",
       "    </tr>\n",
       "    <tr>\n",
       "      <th>1983</th>\n",
       "      <td>2307529320</td>\n",
       "      <td>519107412</td>\n",
       "    </tr>\n",
       "    <tr>\n",
       "      <th>1984</th>\n",
       "      <td>2635524418</td>\n",
       "      <td>729211964</td>\n",
       "    </tr>\n",
       "    <tr>\n",
       "      <th>1985</th>\n",
       "      <td>2875772392</td>\n",
       "      <td>748720637</td>\n",
       "    </tr>\n",
       "    <tr>\n",
       "      <th>1986</th>\n",
       "      <td>3002778281</td>\n",
       "      <td>704533613</td>\n",
       "    </tr>\n",
       "    <tr>\n",
       "      <th>1987</th>\n",
       "      <td>3462104847</td>\n",
       "      <td>709455811</td>\n",
       "    </tr>\n",
       "    <tr>\n",
       "      <th>1988</th>\n",
       "      <td>3739550845</td>\n",
       "      <td>925348000</td>\n",
       "    </tr>\n",
       "    <tr>\n",
       "      <th>1989</th>\n",
       "      <td>5164923718</td>\n",
       "      <td>1079656360</td>\n",
       "    </tr>\n",
       "    <tr>\n",
       "      <th>1990</th>\n",
       "      <td>5315166660</td>\n",
       "      <td>1289922066</td>\n",
       "    </tr>\n",
       "    <tr>\n",
       "      <th>1991</th>\n",
       "      <td>4706599796</td>\n",
       "      <td>1466233000</td>\n",
       "    </tr>\n",
       "    <tr>\n",
       "      <th>1992</th>\n",
       "      <td>6078153217</td>\n",
       "      <td>1441765370</td>\n",
       "    </tr>\n",
       "    <tr>\n",
       "      <th>1993</th>\n",
       "      <td>6955151167</td>\n",
       "      <td>1779628653</td>\n",
       "    </tr>\n",
       "    <tr>\n",
       "      <th>1994</th>\n",
       "      <td>7095429177</td>\n",
       "      <td>2229207032</td>\n",
       "    </tr>\n",
       "    <tr>\n",
       "      <th>1995</th>\n",
       "      <td>9156341160</td>\n",
       "      <td>2865884377</td>\n",
       "    </tr>\n",
       "    <tr>\n",
       "      <th>1996</th>\n",
       "      <td>8311492279</td>\n",
       "      <td>3687042051</td>\n",
       "    </tr>\n",
       "    <tr>\n",
       "      <th>1997</th>\n",
       "      <td>10655173234</td>\n",
       "      <td>4751086675</td>\n",
       "    </tr>\n",
       "    <tr>\n",
       "      <th>1998</th>\n",
       "      <td>9493174938</td>\n",
       "      <td>4499660000</td>\n",
       "    </tr>\n",
       "    <tr>\n",
       "      <th>1999</th>\n",
       "      <td>11355712579</td>\n",
       "      <td>5765235106</td>\n",
       "    </tr>\n",
       "    <tr>\n",
       "      <th>2000</th>\n",
       "      <td>10978701012</td>\n",
       "      <td>5752700000</td>\n",
       "    </tr>\n",
       "    <tr>\n",
       "      <th>2001</th>\n",
       "      <td>13410083139</td>\n",
       "      <td>5641944000</td>\n",
       "    </tr>\n",
       "    <tr>\n",
       "      <th>2002</th>\n",
       "      <td>14643618528</td>\n",
       "      <td>5894640255</td>\n",
       "    </tr>\n",
       "    <tr>\n",
       "      <th>2003</th>\n",
       "      <td>15138243542</td>\n",
       "      <td>6239857694</td>\n",
       "    </tr>\n",
       "    <tr>\n",
       "      <th>2004</th>\n",
       "      <td>16793822618</td>\n",
       "      <td>7170340222</td>\n",
       "    </tr>\n",
       "    <tr>\n",
       "      <th>2005</th>\n",
       "      <td>16516835108</td>\n",
       "      <td>7343284349</td>\n",
       "    </tr>\n",
       "    <tr>\n",
       "      <th>2006</th>\n",
       "      <td>16275739385</td>\n",
       "      <td>7306185300</td>\n",
       "    </tr>\n",
       "    <tr>\n",
       "      <th>2007</th>\n",
       "      <td>19411668670</td>\n",
       "      <td>7635569004</td>\n",
       "    </tr>\n",
       "    <tr>\n",
       "      <th>2008</th>\n",
       "      <td>19431695138</td>\n",
       "      <td>7781262597</td>\n",
       "    </tr>\n",
       "    <tr>\n",
       "      <th>2009</th>\n",
       "      <td>22180170559</td>\n",
       "      <td>8594084056</td>\n",
       "    </tr>\n",
       "    <tr>\n",
       "      <th>2010</th>\n",
       "      <td>21959031545</td>\n",
       "      <td>9355001006</td>\n",
       "    </tr>\n",
       "    <tr>\n",
       "      <th>2011</th>\n",
       "      <td>23695591578</td>\n",
       "      <td>9018153652</td>\n",
       "    </tr>\n",
       "    <tr>\n",
       "      <th>2012</th>\n",
       "      <td>24668428824</td>\n",
       "      <td>8274084052</td>\n",
       "    </tr>\n",
       "    <tr>\n",
       "      <th>2013</th>\n",
       "      <td>24703633017</td>\n",
       "      <td>9236038361</td>\n",
       "    </tr>\n",
       "    <tr>\n",
       "      <th>2014</th>\n",
       "      <td>24331150183</td>\n",
       "      <td>7923990138</td>\n",
       "    </tr>\n",
       "    <tr>\n",
       "      <th>2015</th>\n",
       "      <td>26762450518</td>\n",
       "      <td>7596547557</td>\n",
       "    </tr>\n",
       "  </tbody>\n",
       "</table>\n",
       "</div>"
      ],
      "text/plain": [
       "              Total Revenue  Total Budget\n",
       "release_year                             \n",
       "1960              145005000      22056948\n",
       "1961              337720188      46137000\n",
       "1962              215579846      54722126\n",
       "1963              187404989      73331500\n",
       "1964              340981782      39483161\n",
       "1965              458081854      70205115\n",
       "1966               84736689      57554800\n",
       "1967              737834637     100652200\n",
       "1968              264732980      71939000\n",
       "1969              243957076      42129087\n",
       "1970              560221969     126966946\n",
       "1971              404910610      75997000\n",
       "1972              494730171      36279254\n",
       "1973             1223981102      65190783\n",
       "1974              812539818      76970000\n",
       "1975              957489966      56279000\n",
       "1976              801005600     122150000\n",
       "1977             2180583159     161580000\n",
       "1978             1369779659     208997011\n",
       "1979             1684794913     254814000\n",
       "1980             1768662387     362500000\n",
       "1981             1774606236     373757786\n",
       "1982             2458443852     437795002\n",
       "1983             2307529320     519107412\n",
       "1984             2635524418     729211964\n",
       "1985             2875772392     748720637\n",
       "1986             3002778281     704533613\n",
       "1987             3462104847     709455811\n",
       "1988             3739550845     925348000\n",
       "1989             5164923718    1079656360\n",
       "1990             5315166660    1289922066\n",
       "1991             4706599796    1466233000\n",
       "1992             6078153217    1441765370\n",
       "1993             6955151167    1779628653\n",
       "1994             7095429177    2229207032\n",
       "1995             9156341160    2865884377\n",
       "1996             8311492279    3687042051\n",
       "1997            10655173234    4751086675\n",
       "1998             9493174938    4499660000\n",
       "1999            11355712579    5765235106\n",
       "2000            10978701012    5752700000\n",
       "2001            13410083139    5641944000\n",
       "2002            14643618528    5894640255\n",
       "2003            15138243542    6239857694\n",
       "2004            16793822618    7170340222\n",
       "2005            16516835108    7343284349\n",
       "2006            16275739385    7306185300\n",
       "2007            19411668670    7635569004\n",
       "2008            19431695138    7781262597\n",
       "2009            22180170559    8594084056\n",
       "2010            21959031545    9355001006\n",
       "2011            23695591578    9018153652\n",
       "2012            24668428824    8274084052\n",
       "2013            24703633017    9236038361\n",
       "2014            24331150183    7923990138\n",
       "2015            26762450518    7596547557"
      ]
     },
     "execution_count": 22,
     "metadata": {},
     "output_type": "execute_result"
    }
   ],
   "source": [
    "#printing the total revenue and total budget of the movies over the years\n",
    "movies_per_year_count[['Total Revenue','Total Budget']]"
   ]
  },
  {
   "cell_type": "markdown",
   "metadata": {},
   "source": [
    "** Note: The 'Total Revenue' and 'Total Budget' columns contain the sum of all values of 'revenue' and 'budget' including the ones listed as 0 as well. **"
   ]
  },
  {
   "cell_type": "markdown",
   "metadata": {},
   "source": [
    "Visualizing the relation between the Total Budget and the Total Revenue over the years"
   ]
  },
  {
   "cell_type": "code",
   "execution_count": 23,
   "metadata": {
    "collapsed": false
   },
   "outputs": [
    {
     "data": {
      "text/plain": [
       "<matplotlib.text.Text at 0xda2afd0>"
      ]
     },
     "execution_count": 23,
     "metadata": {},
     "output_type": "execute_result"
    },
    {
     "data": {
      "image/png": "[encoded data removed]",
      "text/plain": [
       "<matplotlib.figure.Figure at 0xd78a358>"
      ]
     },
     "metadata": {},
     "output_type": "display_data"
    }
   ],
   "source": [
    "movies_per_year_count['Total Revenue'].plot(kind='line',legend=True,figsize=(9,7))\n",
    "movies_per_year_count['Total Budget'].plot(kind='line',legend=True,figsize=(9,7))\n",
    "plt.xlabel('Release Year')\n",
    "plt.ylabel('US Dollars ($)')\n",
    "plt.title('Total Revenue vs. Total Budget')"
   ]
  },
  {
   "cell_type": "markdown",
   "metadata": {},
   "source": [
    "The plot above gives us a vague idea of the difference in Total Budget and Total Revenue of the movies released over the past years, but it does not give us enough idea about the early years as the y-axis of the graph had a huge multiple of 1e10 with it.\n",
    "To overcome this and get a better sense of the difference for the early years, plotting the above plot again but with a lograthmic y-axis."
   ]
  },
  {
   "cell_type": "code",
   "execution_count": 24,
   "metadata": {
    "collapsed": false
   },
   "outputs": [
    {
     "data": {
      "image/png": "[encoded data removed]",
      "text/plain": [
       "<matplotlib.figure.Figure at 0xd79fa58>"
      ]
     },
     "metadata": {},
     "output_type": "display_data"
    }
   ],
   "source": [
    "movies_per_year_count['Total Revenue'].plot(kind='line',legend=True,figsize=(9,7))\n",
    "movies_per_year_count['Total Budget'].plot(kind='line',legend=True,figsize=(9,7))\n",
    "plt.xlabel('Release Year')\n",
    "plt.ylabel('US Dollars ($)')\n",
    "plt.title('Total Revenue vs. Total Budget')\n",
    "plt.yscale('log')"
   ]
  },
  {
   "cell_type": "markdown",
   "metadata": {},
   "source": [
    "Going by the above two graphs, it can be said that the movie industry has been always in gross profit over the years.\n",
    "Plotting the gross profit over the years."
   ]
  },
  {
   "cell_type": "code",
   "execution_count": 25,
   "metadata": {
    "collapsed": false
   },
   "outputs": [
    {
     "data": {
      "text/plain": [
       "<matplotlib.text.Text at 0xfd2b978>"
      ]
     },
     "execution_count": 25,
     "metadata": {},
     "output_type": "execute_result"
    },
    {
     "data": {
      "image/png": "[encoded data removed]",
      "text/plain": [
       "<matplotlib.figure.Figure at 0xb69ccf8>"
      ]
     },
     "metadata": {},
     "output_type": "display_data"
    }
   ],
   "source": [
    "movies_per_year_count['Total Revenue'].sub(movies_per_year_count['Total Budget']).plot(\n",
    "    kind='bar',logy=True,title='Gross Profit over the years',fontsize=8,colormap='rainbow',figsize=(9,7))\n",
    "plt.ylabel('US Dollars($)')\n",
    "plt.legend(['Gross Profit'],loc=0) \n",
    "plt.xlabel('Release Year')\n"
   ]
  },
  {
   "cell_type": "markdown",
   "metadata": {},
   "source": [
    "Therefore, by looking at the above plot it can be said that there has been a steady rise in the Gross Profit for the movie industry."
   ]
  },
  {
   "cell_type": "markdown",
   "metadata": {},
   "source": [
    "### Relation between Budget and Revenue"
   ]
  },
  {
   "cell_type": "markdown",
   "metadata": {},
   "source": [
    "Plotting Budget vs Revenue to get a better understanding of thier dependency on each other."
   ]
  },
  {
   "cell_type": "code",
   "execution_count": 26,
   "metadata": {
    "collapsed": false,
    "scrolled": true
   },
   "outputs": [
    {
     "data": {
      "text/plain": [
       "<seaborn.axisgrid.JointGrid at 0xd7927f0>"
      ]
     },
     "execution_count": 26,
     "metadata": {},
     "output_type": "execute_result"
    },
    {
     "data": {
      "image/png": "[encoded data removed]",
      "text/plain": [
       "<matplotlib.figure.Figure at 0xd792dd8>"
      ]
     },
     "metadata": {},
     "output_type": "display_data"
    }
   ],
   "source": [
    "sns.jointplot(data=imdb_db,x='budget',y='revenue')"
   ]
  },
  {
   "cell_type": "markdown",
   "metadata": {},
   "source": [
    "The plot shows that even though there are outliers in the data, budget and revenue have a 79% correlation between them. **(Note: Remember that this data contains 0 values as well)**\n",
    "\n",
    "We can also get the correlation for the movie where both the budget and revenue are not zero."
   ]
  },
  {
   "cell_type": "code",
   "execution_count": 27,
   "metadata": {
    "collapsed": false
   },
   "outputs": [
    {
     "data": {
      "text/plain": [
       "id                      3854\n",
       "imdb_id                 3854\n",
       "popularity              3854\n",
       "budget                  3854\n",
       "revenue                 3854\n",
       "original_title          3854\n",
       "cast                    3850\n",
       "homepage                1426\n",
       "director                3853\n",
       "tagline                 3574\n",
       "keywords                3716\n",
       "overview                3854\n",
       "runtime                 3854\n",
       "genres                  3854\n",
       "production_companies    3808\n",
       "release_date            3854\n",
       "vote_count              3854\n",
       "vote_average            3854\n",
       "release_year            3854\n",
       "budget_adj              3854\n",
       "revenue_adj             3854\n",
       "dtype: int64"
      ]
     },
     "execution_count": 27,
     "metadata": {},
     "output_type": "execute_result"
    }
   ],
   "source": [
    "not_zero = imdb_db[(imdb_db['revenue']!=0) & (imdb_db['budget']!=0)]\n",
    "not_zero.count()"
   ]
  },
  {
   "cell_type": "code",
   "execution_count": 28,
   "metadata": {
    "collapsed": false,
    "scrolled": true
   },
   "outputs": [
    {
     "data": {
      "text/plain": [
       "<seaborn.axisgrid.JointGrid at 0xd78a278>"
      ]
     },
     "execution_count": 28,
     "metadata": {},
     "output_type": "execute_result"
    },
    {
     "data": {
      "image/png": "[encoded data removed]",
      "text/plain": [
       "<matplotlib.figure.Figure at 0xdc1bef0>"
      ]
     },
     "metadata": {},
     "output_type": "display_data"
    }
   ],
   "source": [
    "sns.jointplot(data=not_zero,x='budget',y='revenue')"
   ]
  },
  {
   "cell_type": "markdown",
   "metadata": {},
   "source": [
    "This shows that if both the budget and revenue values are given, then they have a 69% correlation between them. But this cannot be implied for the whole dataset as only 3854 entries have both the as non-zero entries."
   ]
  },
  {
   "cell_type": "markdown",
   "metadata": {},
   "source": [
    "### Top movies as per popularity "
   ]
  },
  {
   "cell_type": "markdown",
   "metadata": {},
   "source": [
    "Listing the top 10 movies in the database as per their popularity index."
   ]
  },
  {
   "cell_type": "code",
   "execution_count": 29,
   "metadata": {
    "collapsed": false
   },
   "outputs": [
    {
     "data": {
      "text/html": [
       "<div>\n",
       "<table border=\"1\" class=\"dataframe\">\n",
       "  <thead>\n",
       "    <tr style=\"text-align: right;\">\n",
       "      <th></th>\n",
       "      <th>original_title</th>\n",
       "      <th>popularity</th>\n",
       "    </tr>\n",
       "  </thead>\n",
       "  <tbody>\n",
       "    <tr>\n",
       "      <th>0</th>\n",
       "      <td>Jurassic World</td>\n",
       "      <td>32.985763</td>\n",
       "    </tr>\n",
       "    <tr>\n",
       "      <th>1</th>\n",
       "      <td>Mad Max: Fury Road</td>\n",
       "      <td>28.419936</td>\n",
       "    </tr>\n",
       "    <tr>\n",
       "      <th>629</th>\n",
       "      <td>Interstellar</td>\n",
       "      <td>24.949134</td>\n",
       "    </tr>\n",
       "    <tr>\n",
       "      <th>630</th>\n",
       "      <td>Guardians of the Galaxy</td>\n",
       "      <td>14.311205</td>\n",
       "    </tr>\n",
       "    <tr>\n",
       "      <th>2</th>\n",
       "      <td>Insurgent</td>\n",
       "      <td>13.112507</td>\n",
       "    </tr>\n",
       "    <tr>\n",
       "      <th>631</th>\n",
       "      <td>Captain America: The Winter Soldier</td>\n",
       "      <td>12.971027</td>\n",
       "    </tr>\n",
       "    <tr>\n",
       "      <th>1329</th>\n",
       "      <td>Star Wars</td>\n",
       "      <td>12.037933</td>\n",
       "    </tr>\n",
       "    <tr>\n",
       "      <th>632</th>\n",
       "      <td>John Wick</td>\n",
       "      <td>11.422751</td>\n",
       "    </tr>\n",
       "    <tr>\n",
       "      <th>3</th>\n",
       "      <td>Star Wars: The Force Awakens</td>\n",
       "      <td>11.173104</td>\n",
       "    </tr>\n",
       "    <tr>\n",
       "      <th>633</th>\n",
       "      <td>The Hunger Games: Mockingjay - Part 1</td>\n",
       "      <td>10.739009</td>\n",
       "    </tr>\n",
       "  </tbody>\n",
       "</table>\n",
       "</div>"
      ],
      "text/plain": [
       "                             original_title  popularity\n",
       "0                            Jurassic World   32.985763\n",
       "1                        Mad Max: Fury Road   28.419936\n",
       "629                            Interstellar   24.949134\n",
       "630                 Guardians of the Galaxy   14.311205\n",
       "2                                 Insurgent   13.112507\n",
       "631     Captain America: The Winter Soldier   12.971027\n",
       "1329                              Star Wars   12.037933\n",
       "632                               John Wick   11.422751\n",
       "3              Star Wars: The Force Awakens   11.173104\n",
       "633   The Hunger Games: Mockingjay - Part 1   10.739009"
      ]
     },
     "execution_count": 29,
     "metadata": {},
     "output_type": "execute_result"
    }
   ],
   "source": [
    "top_popular_movies = imdb_db.nlargest(10,'popularity') #Getting the top 10 movies as per popularity\n",
    "top_popular_movies[['original_title','popularity']]"
   ]
  },
  {
   "cell_type": "markdown",
   "metadata": {},
   "source": [
    "Having a look at the Budget and Revenue of the top 10 movies to have an idea of how successful they were."
   ]
  },
  {
   "cell_type": "code",
   "execution_count": 30,
   "metadata": {
    "collapsed": false,
    "scrolled": true
   },
   "outputs": [
    {
     "data": {
      "text/html": [
       "<div>\n",
       "<table border=\"1\" class=\"dataframe\">\n",
       "  <thead>\n",
       "    <tr style=\"text-align: right;\">\n",
       "      <th></th>\n",
       "      <th>original_title</th>\n",
       "      <th>revenue</th>\n",
       "      <th>budget</th>\n",
       "    </tr>\n",
       "  </thead>\n",
       "  <tbody>\n",
       "    <tr>\n",
       "      <th>0</th>\n",
       "      <td>Jurassic World</td>\n",
       "      <td>1513528810</td>\n",
       "      <td>150000000</td>\n",
       "    </tr>\n",
       "    <tr>\n",
       "      <th>1</th>\n",
       "      <td>Mad Max: Fury Road</td>\n",
       "      <td>378436354</td>\n",
       "      <td>150000000</td>\n",
       "    </tr>\n",
       "    <tr>\n",
       "      <th>629</th>\n",
       "      <td>Interstellar</td>\n",
       "      <td>621752480</td>\n",
       "      <td>165000000</td>\n",
       "    </tr>\n",
       "    <tr>\n",
       "      <th>630</th>\n",
       "      <td>Guardians of the Galaxy</td>\n",
       "      <td>773312399</td>\n",
       "      <td>170000000</td>\n",
       "    </tr>\n",
       "    <tr>\n",
       "      <th>2</th>\n",
       "      <td>Insurgent</td>\n",
       "      <td>295238201</td>\n",
       "      <td>110000000</td>\n",
       "    </tr>\n",
       "    <tr>\n",
       "      <th>631</th>\n",
       "      <td>Captain America: The Winter Soldier</td>\n",
       "      <td>714766572</td>\n",
       "      <td>170000000</td>\n",
       "    </tr>\n",
       "    <tr>\n",
       "      <th>1329</th>\n",
       "      <td>Star Wars</td>\n",
       "      <td>775398007</td>\n",
       "      <td>11000000</td>\n",
       "    </tr>\n",
       "    <tr>\n",
       "      <th>632</th>\n",
       "      <td>John Wick</td>\n",
       "      <td>78739897</td>\n",
       "      <td>20000000</td>\n",
       "    </tr>\n",
       "    <tr>\n",
       "      <th>3</th>\n",
       "      <td>Star Wars: The Force Awakens</td>\n",
       "      <td>2068178225</td>\n",
       "      <td>200000000</td>\n",
       "    </tr>\n",
       "    <tr>\n",
       "      <th>633</th>\n",
       "      <td>The Hunger Games: Mockingjay - Part 1</td>\n",
       "      <td>752100229</td>\n",
       "      <td>125000000</td>\n",
       "    </tr>\n",
       "  </tbody>\n",
       "</table>\n",
       "</div>"
      ],
      "text/plain": [
       "                             original_title     revenue     budget\n",
       "0                            Jurassic World  1513528810  150000000\n",
       "1                        Mad Max: Fury Road   378436354  150000000\n",
       "629                            Interstellar   621752480  165000000\n",
       "630                 Guardians of the Galaxy   773312399  170000000\n",
       "2                                 Insurgent   295238201  110000000\n",
       "631     Captain America: The Winter Soldier   714766572  170000000\n",
       "1329                              Star Wars   775398007   11000000\n",
       "632                               John Wick    78739897   20000000\n",
       "3              Star Wars: The Force Awakens  2068178225  200000000\n",
       "633   The Hunger Games: Mockingjay - Part 1   752100229  125000000"
      ]
     },
     "execution_count": 30,
     "metadata": {},
     "output_type": "execute_result"
    }
   ],
   "source": [
    "top_popular_movies[['original_title','revenue','budget']]"
   ]
  },
  {
   "cell_type": "code",
   "execution_count": 31,
   "metadata": {
    "collapsed": false
   },
   "outputs": [
    {
     "data": {
      "text/plain": [
       "[<matplotlib.text.Text at 0x118b6c18>,\n",
       " <matplotlib.text.Text at 0x11d88518>,\n",
       " <matplotlib.text.Text at 0x11de8f60>,\n",
       " <matplotlib.text.Text at 0x11df75f8>,\n",
       " <matplotlib.text.Text at 0x11df7c88>,\n",
       " <matplotlib.text.Text at 0x11e45358>,\n",
       " <matplotlib.text.Text at 0x11e459e8>,\n",
       " <matplotlib.text.Text at 0x11e4cc18>,\n",
       " <matplotlib.text.Text at 0x11e45828>,\n",
       " <matplotlib.text.Text at 0x11df73c8>]"
      ]
     },
     "execution_count": 31,
     "metadata": {},
     "output_type": "execute_result"
    },
    {
     "data": {
      "image/png": "[encoded data removed]",
      "text/plain": [
       "<matplotlib.figure.Figure at 0x10444a90>"
      ]
     },
     "metadata": {},
     "output_type": "display_data"
    }
   ],
   "source": [
    "plot1 = top_popular_movies['revenue'].sub(top_popular_movies['budget']).plot(\n",
    "    kind='barh',title='Gross Profit for top 10 movies',fontsize=8,figsize=(8,8),use_index=False)\n",
    "plot1.set_yticklabels(top_popular_movies['original_title'])"
   ]
  },
  {
   "cell_type": "markdown",
   "metadata": {},
   "source": [
    "### Top movies as per the vote average (rating)"
   ]
  },
  {
   "cell_type": "markdown",
   "metadata": {},
   "source": [
    "Listing the top 10 movies in the database as per the average vote value they received."
   ]
  },
  {
   "cell_type": "code",
   "execution_count": 32,
   "metadata": {
    "collapsed": false
   },
   "outputs": [
    {
     "data": {
      "text/html": [
       "<div>\n",
       "<table border=\"1\" class=\"dataframe\">\n",
       "  <thead>\n",
       "    <tr style=\"text-align: right;\">\n",
       "      <th></th>\n",
       "      <th>original_title</th>\n",
       "      <th>vote_average</th>\n",
       "    </tr>\n",
       "  </thead>\n",
       "  <tbody>\n",
       "    <tr>\n",
       "      <th>3894</th>\n",
       "      <td>The Story of Film: An Odyssey</td>\n",
       "      <td>9.2</td>\n",
       "    </tr>\n",
       "    <tr>\n",
       "      <th>538</th>\n",
       "      <td>The Mask You Live In</td>\n",
       "      <td>8.9</td>\n",
       "    </tr>\n",
       "    <tr>\n",
       "      <th>1200</th>\n",
       "      <td>Black Mirror: White Christmas</td>\n",
       "      <td>8.8</td>\n",
       "    </tr>\n",
       "    <tr>\n",
       "      <th>2269</th>\n",
       "      <td>Life Cycles</td>\n",
       "      <td>8.8</td>\n",
       "    </tr>\n",
       "    <tr>\n",
       "      <th>6911</th>\n",
       "      <td>Pink Floyd: Pulse</td>\n",
       "      <td>8.7</td>\n",
       "    </tr>\n",
       "    <tr>\n",
       "      <th>2401</th>\n",
       "      <td>Opeth: In Live Concert At The Royal Albert Hall</td>\n",
       "      <td>8.6</td>\n",
       "    </tr>\n",
       "    <tr>\n",
       "      <th>3224</th>\n",
       "      <td>John Mayer: Where the Light Is Live in Los Ang...</td>\n",
       "      <td>8.5</td>\n",
       "    </tr>\n",
       "    <tr>\n",
       "      <th>3690</th>\n",
       "      <td>The Art of Flight</td>\n",
       "      <td>8.5</td>\n",
       "    </tr>\n",
       "    <tr>\n",
       "      <th>5830</th>\n",
       "      <td>Doctor Who: The Time of the Doctor</td>\n",
       "      <td>8.5</td>\n",
       "    </tr>\n",
       "    <tr>\n",
       "      <th>8221</th>\n",
       "      <td>A Personal Journey with Martin Scorsese Throug...</td>\n",
       "      <td>8.5</td>\n",
       "    </tr>\n",
       "  </tbody>\n",
       "</table>\n",
       "</div>"
      ],
      "text/plain": [
       "                                         original_title  vote_average\n",
       "3894                      The Story of Film: An Odyssey           9.2\n",
       "538                                The Mask You Live In           8.9\n",
       "1200                      Black Mirror: White Christmas           8.8\n",
       "2269                                        Life Cycles           8.8\n",
       "6911                                  Pink Floyd: Pulse           8.7\n",
       "2401    Opeth: In Live Concert At The Royal Albert Hall           8.6\n",
       "3224  John Mayer: Where the Light Is Live in Los Ang...           8.5\n",
       "3690                                  The Art of Flight           8.5\n",
       "5830                 Doctor Who: The Time of the Doctor           8.5\n",
       "8221  A Personal Journey with Martin Scorsese Throug...           8.5"
      ]
     },
     "execution_count": 32,
     "metadata": {},
     "output_type": "execute_result"
    }
   ],
   "source": [
    "top_rated_movies = imdb_db.nlargest(10,'vote_average') #Getting the top 10 movies as per popularity\n",
    "top_rated_movies[['original_title','vote_average']]"
   ]
  },
  {
   "cell_type": "markdown",
   "metadata": {},
   "source": [
    "Having a look at the Budget and Revenue of the top 10 movies as per ratings to have an idea of how successful they were."
   ]
  },
  {
   "cell_type": "code",
   "execution_count": 33,
   "metadata": {
    "collapsed": false,
    "scrolled": true
   },
   "outputs": [
    {
     "data": {
      "text/html": [
       "<div>\n",
       "<table border=\"1\" class=\"dataframe\">\n",
       "  <thead>\n",
       "    <tr style=\"text-align: right;\">\n",
       "      <th></th>\n",
       "      <th>original_title</th>\n",
       "      <th>revenue</th>\n",
       "      <th>budget</th>\n",
       "    </tr>\n",
       "  </thead>\n",
       "  <tbody>\n",
       "    <tr>\n",
       "      <th>3894</th>\n",
       "      <td>The Story of Film: An Odyssey</td>\n",
       "      <td>0</td>\n",
       "      <td>0</td>\n",
       "    </tr>\n",
       "    <tr>\n",
       "      <th>538</th>\n",
       "      <td>The Mask You Live In</td>\n",
       "      <td>0</td>\n",
       "      <td>0</td>\n",
       "    </tr>\n",
       "    <tr>\n",
       "      <th>1200</th>\n",
       "      <td>Black Mirror: White Christmas</td>\n",
       "      <td>0</td>\n",
       "      <td>0</td>\n",
       "    </tr>\n",
       "    <tr>\n",
       "      <th>2269</th>\n",
       "      <td>Life Cycles</td>\n",
       "      <td>0</td>\n",
       "      <td>0</td>\n",
       "    </tr>\n",
       "    <tr>\n",
       "      <th>6911</th>\n",
       "      <td>Pink Floyd: Pulse</td>\n",
       "      <td>0</td>\n",
       "      <td>0</td>\n",
       "    </tr>\n",
       "    <tr>\n",
       "      <th>2401</th>\n",
       "      <td>Opeth: In Live Concert At The Royal Albert Hall</td>\n",
       "      <td>0</td>\n",
       "      <td>0</td>\n",
       "    </tr>\n",
       "    <tr>\n",
       "      <th>3224</th>\n",
       "      <td>John Mayer: Where the Light Is Live in Los Ang...</td>\n",
       "      <td>0</td>\n",
       "      <td>0</td>\n",
       "    </tr>\n",
       "    <tr>\n",
       "      <th>3690</th>\n",
       "      <td>The Art of Flight</td>\n",
       "      <td>0</td>\n",
       "      <td>0</td>\n",
       "    </tr>\n",
       "    <tr>\n",
       "      <th>5830</th>\n",
       "      <td>Doctor Who: The Time of the Doctor</td>\n",
       "      <td>0</td>\n",
       "      <td>0</td>\n",
       "    </tr>\n",
       "    <tr>\n",
       "      <th>8221</th>\n",
       "      <td>A Personal Journey with Martin Scorsese Throug...</td>\n",
       "      <td>0</td>\n",
       "      <td>0</td>\n",
       "    </tr>\n",
       "  </tbody>\n",
       "</table>\n",
       "</div>"
      ],
      "text/plain": [
       "                                         original_title  revenue  budget\n",
       "3894                      The Story of Film: An Odyssey        0       0\n",
       "538                                The Mask You Live In        0       0\n",
       "1200                      Black Mirror: White Christmas        0       0\n",
       "2269                                        Life Cycles        0       0\n",
       "6911                                  Pink Floyd: Pulse        0       0\n",
       "2401    Opeth: In Live Concert At The Royal Albert Hall        0       0\n",
       "3224  John Mayer: Where the Light Is Live in Los Ang...        0       0\n",
       "3690                                  The Art of Flight        0       0\n",
       "5830                 Doctor Who: The Time of the Doctor        0       0\n",
       "8221  A Personal Journey with Martin Scorsese Throug...        0       0"
      ]
     },
     "execution_count": 33,
     "metadata": {},
     "output_type": "execute_result"
    }
   ],
   "source": [
    "top_rated_movies[['original_title','revenue','budget']]"
   ]
  },
  {
   "cell_type": "markdown",
   "metadata": {},
   "source": [
    "As it can be seen, the information regarding the Revenue and Budget is not available for these movies(or rather have a value of 0 instead of the information) and hence the profits for them can not be evaluated."
   ]
  },
  {
   "cell_type": "markdown",
   "metadata": {},
   "source": [
    "### Relation between vote average and popularity"
   ]
  },
  {
   "cell_type": "markdown",
   "metadata": {},
   "source": [
    "As, the information about Budget and Revenue is not present for the top movies based on vote average, visualizing the vote average in comparision to the popularity of the movies."
   ]
  },
  {
   "cell_type": "code",
   "execution_count": 34,
   "metadata": {
    "collapsed": false
   },
   "outputs": [
    {
     "data": {
      "text/plain": [
       "<matplotlib.text.Text at 0x1207ee10>"
      ]
     },
     "execution_count": 34,
     "metadata": {},
     "output_type": "execute_result"
    },
    {
     "data": {
      "image/png": "[encoded data removed]",
      "text/plain": [
       "<matplotlib.figure.Figure at 0x118b0d68>"
      ]
     },
     "metadata": {},
     "output_type": "display_data"
    }
   ],
   "source": [
    "sns.jointplot(data=imdb_db,x='vote_average',y='popularity')\n",
    "plt.title('Vote Average vs. Popularity')"
   ]
  },
  {
   "cell_type": "markdown",
   "metadata": {},
   "source": [
    "The plot shows that there is a 21% correlation between popularity and vote average of the movies.\n",
    "It also shows that the popularity data has a few outliers and skews the data whereas the vote averages are more uniformly distributed along it's scale."
   ]
  },
  {
   "cell_type": "markdown",
   "metadata": {},
   "source": [
    "### Most popular genres "
   ]
  },
  {
   "cell_type": "code",
   "execution_count": 35,
   "metadata": {
    "collapsed": true
   },
   "outputs": [],
   "source": [
    "def categorize(data, column):\n",
    "    \"\"\"\n",
    "    Function to categorize the data as per frequency from a dataframe column having lists as elements,\n",
    "    with each element contaning single or multiple categories.\n",
    "    \n",
    "    data: the dataset on which we are working\n",
    "    column: the column on which the function is to be applied\n",
    "    \"\"\"\n",
    "    df = pd.DataFrame(columns=[column,'value'])\n",
    "    for rows in data[column].dropna():\n",
    "        for row in rows:\n",
    "            if row not in set(df[column]):\n",
    "                df = df.append(pd.DataFrame({column:[row],'value':[1]}))\n",
    "            else:\n",
    "                location = list(df[column]).index(row)\n",
    "                df.iloc[location,1] = (df.iloc[location,1]+1)\n",
    "    df.set_index(column,inplace=True)           \n",
    "    return df"
   ]
  },
  {
   "cell_type": "code",
   "execution_count": 36,
   "metadata": {
    "collapsed": false
   },
   "outputs": [
    {
     "data": {
      "text/html": [
       "<div>\n",
       "<table border=\"1\" class=\"dataframe\">\n",
       "  <thead>\n",
       "    <tr style=\"text-align: right;\">\n",
       "      <th></th>\n",
       "      <th>value</th>\n",
       "    </tr>\n",
       "    <tr>\n",
       "      <th>genres</th>\n",
       "      <th></th>\n",
       "    </tr>\n",
       "  </thead>\n",
       "  <tbody>\n",
       "    <tr>\n",
       "      <th>Action</th>\n",
       "      <td>2384.0</td>\n",
       "    </tr>\n",
       "    <tr>\n",
       "      <th>Adventure</th>\n",
       "      <td>1471.0</td>\n",
       "    </tr>\n",
       "    <tr>\n",
       "      <th>Science Fiction</th>\n",
       "      <td>1229.0</td>\n",
       "    </tr>\n",
       "    <tr>\n",
       "      <th>Thriller</th>\n",
       "      <td>2907.0</td>\n",
       "    </tr>\n",
       "    <tr>\n",
       "      <th>Fantasy</th>\n",
       "      <td>916.0</td>\n",
       "    </tr>\n",
       "    <tr>\n",
       "      <th>Crime</th>\n",
       "      <td>1354.0</td>\n",
       "    </tr>\n",
       "    <tr>\n",
       "      <th>Western</th>\n",
       "      <td>165.0</td>\n",
       "    </tr>\n",
       "    <tr>\n",
       "      <th>Drama</th>\n",
       "      <td>4760.0</td>\n",
       "    </tr>\n",
       "    <tr>\n",
       "      <th>Family</th>\n",
       "      <td>1231.0</td>\n",
       "    </tr>\n",
       "    <tr>\n",
       "      <th>Animation</th>\n",
       "      <td>699.0</td>\n",
       "    </tr>\n",
       "    <tr>\n",
       "      <th>Comedy</th>\n",
       "      <td>3793.0</td>\n",
       "    </tr>\n",
       "    <tr>\n",
       "      <th>Mystery</th>\n",
       "      <td>810.0</td>\n",
       "    </tr>\n",
       "    <tr>\n",
       "      <th>Romance</th>\n",
       "      <td>1712.0</td>\n",
       "    </tr>\n",
       "    <tr>\n",
       "      <th>War</th>\n",
       "      <td>270.0</td>\n",
       "    </tr>\n",
       "    <tr>\n",
       "      <th>History</th>\n",
       "      <td>334.0</td>\n",
       "    </tr>\n",
       "    <tr>\n",
       "      <th>Music</th>\n",
       "      <td>408.0</td>\n",
       "    </tr>\n",
       "    <tr>\n",
       "      <th>Horror</th>\n",
       "      <td>1637.0</td>\n",
       "    </tr>\n",
       "    <tr>\n",
       "      <th>Documentary</th>\n",
       "      <td>520.0</td>\n",
       "    </tr>\n",
       "    <tr>\n",
       "      <th>TV Movie</th>\n",
       "      <td>167.0</td>\n",
       "    </tr>\n",
       "    <tr>\n",
       "      <th>Foreign</th>\n",
       "      <td>188.0</td>\n",
       "    </tr>\n",
       "  </tbody>\n",
       "</table>\n",
       "</div>"
      ],
      "text/plain": [
       "                  value\n",
       "genres                 \n",
       "Action           2384.0\n",
       "Adventure        1471.0\n",
       "Science Fiction  1229.0\n",
       "Thriller         2907.0\n",
       "Fantasy           916.0\n",
       "Crime            1354.0\n",
       "Western           165.0\n",
       "Drama            4760.0\n",
       "Family           1231.0\n",
       "Animation         699.0\n",
       "Comedy           3793.0\n",
       "Mystery           810.0\n",
       "Romance          1712.0\n",
       "War               270.0\n",
       "History           334.0\n",
       "Music             408.0\n",
       "Horror           1637.0\n",
       "Documentary       520.0\n",
       "TV Movie          167.0\n",
       "Foreign           188.0"
      ]
     },
     "execution_count": 36,
     "metadata": {},
     "output_type": "execute_result"
    }
   ],
   "source": [
    "genre_proportion = categorize(imdb_db,'genres')\n",
    "genre_proportion"
   ]
  },
  {
   "cell_type": "code",
   "execution_count": 37,
   "metadata": {
    "collapsed": false
   },
   "outputs": [
    {
     "data": {
      "text/plain": [
       "<matplotlib.text.Text at 0x1329a470>"
      ]
     },
     "execution_count": 37,
     "metadata": {},
     "output_type": "execute_result"
    },
    {
     "data": {
      "image/png": "[encoded data removed]",
      "text/plain": [
       "<matplotlib.figure.Figure at 0xd9bd470>"
      ]
     },
     "metadata": {},
     "output_type": "display_data"
    }
   ],
   "source": [
    "# Plotting the distribution of movies as per genre for the dataset in a pie-chart\n",
    "genre_proportion.plot(kind='bar', figsize=(8,8),title='Genre Variation',legend=False)\n",
    "plt.ylabel('Count')"
   ]
  },
  {
   "cell_type": "markdown",
   "metadata": {},
   "source": [
    "From the graph it becomes clear that the most famous Genres are:\n",
    "    \n",
    "    •\tDrama\n",
    "    •\tComedy\n",
    "    •\tThriller\n",
    "    •\tAction\n",
    "    •\tRomance\n"
   ]
  },
  {
   "cell_type": "markdown",
   "metadata": {},
   "source": [
    "### Director with the most movies "
   ]
  },
  {
   "cell_type": "code",
   "execution_count": 38,
   "metadata": {
    "collapsed": false
   },
   "outputs": [
    {
     "data": {
      "text/plain": [
       "Woody Allen          45\n",
       "Clint Eastwood       34\n",
       "Martin Scorsese      29\n",
       "Steven Spielberg     29\n",
       "Ridley Scott         23\n",
       "Ron Howard           22\n",
       "Steven Soderbergh    22\n",
       "Joel Schumacher      21\n",
       "Brian De Palma       20\n",
       "Barry Levinson       19\n",
       "Name: director, dtype: int64"
      ]
     },
     "execution_count": 38,
     "metadata": {},
     "output_type": "execute_result"
    }
   ],
   "source": [
    "#Top 10 directors with the most movies\n",
    "imdb_db['director'].value_counts()[:10]"
   ]
  },
  {
   "cell_type": "markdown",
   "metadata": {},
   "source": [
    "Therefore, 'Woody Allen' is probably the most in-demand director and has been involved in the making of 45 movies. Listing out the movies made by him and their details."
   ]
  },
  {
   "cell_type": "code",
   "execution_count": 39,
   "metadata": {
    "collapsed": false,
    "scrolled": false
   },
   "outputs": [
    {
     "data": {
      "text/html": [
       "<div>\n",
       "<table border=\"1\" class=\"dataframe\">\n",
       "  <thead>\n",
       "    <tr style=\"text-align: right;\">\n",
       "      <th></th>\n",
       "      <th>original_title</th>\n",
       "      <th>popularity</th>\n",
       "      <th>vote_average</th>\n",
       "      <th>budget</th>\n",
       "      <th>revenue</th>\n",
       "    </tr>\n",
       "  </thead>\n",
       "  <tbody>\n",
       "    <tr>\n",
       "      <th>155</th>\n",
       "      <td>Irrational Man</td>\n",
       "      <td>1.007054</td>\n",
       "      <td>6.1</td>\n",
       "      <td>11000000</td>\n",
       "      <td>27391084</td>\n",
       "    </tr>\n",
       "    <tr>\n",
       "      <th>790</th>\n",
       "      <td>Magic in the Moonlight</td>\n",
       "      <td>0.889247</td>\n",
       "      <td>6.3</td>\n",
       "      <td>0</td>\n",
       "      <td>32339326</td>\n",
       "    </tr>\n",
       "    <tr>\n",
       "      <th>1332</th>\n",
       "      <td>Annie Hall</td>\n",
       "      <td>1.179653</td>\n",
       "      <td>7.6</td>\n",
       "      <td>4000000</td>\n",
       "      <td>38251425</td>\n",
       "    </tr>\n",
       "    <tr>\n",
       "      <th>1489</th>\n",
       "      <td>Whatever Works</td>\n",
       "      <td>0.804857</td>\n",
       "      <td>6.7</td>\n",
       "      <td>15000000</td>\n",
       "      <td>0</td>\n",
       "    </tr>\n",
       "    <tr>\n",
       "      <th>2126</th>\n",
       "      <td>You Will Meet a Tall Dark Stranger</td>\n",
       "      <td>0.493121</td>\n",
       "      <td>5.8</td>\n",
       "      <td>22000000</td>\n",
       "      <td>0</td>\n",
       "    </tr>\n",
       "    <tr>\n",
       "      <th>2551</th>\n",
       "      <td>Sweet and Lowdown</td>\n",
       "      <td>0.281948</td>\n",
       "      <td>6.5</td>\n",
       "      <td>0</td>\n",
       "      <td>0</td>\n",
       "    </tr>\n",
       "    <tr>\n",
       "      <th>2744</th>\n",
       "      <td>The Curse of the Jade Scorpion</td>\n",
       "      <td>0.446532</td>\n",
       "      <td>6.1</td>\n",
       "      <td>0</td>\n",
       "      <td>0</td>\n",
       "    </tr>\n",
       "    <tr>\n",
       "      <th>2964</th>\n",
       "      <td>Vicky Cristina Barcelona</td>\n",
       "      <td>0.866771</td>\n",
       "      <td>6.7</td>\n",
       "      <td>15000000</td>\n",
       "      <td>96408652</td>\n",
       "    </tr>\n",
       "    <tr>\n",
       "      <th>3429</th>\n",
       "      <td>Midnight in Paris</td>\n",
       "      <td>1.367727</td>\n",
       "      <td>7.2</td>\n",
       "      <td>30000000</td>\n",
       "      <td>151119219</td>\n",
       "    </tr>\n",
       "    <tr>\n",
       "      <th>4046</th>\n",
       "      <td>Hollywood Ending</td>\n",
       "      <td>0.444428</td>\n",
       "      <td>6.2</td>\n",
       "      <td>16000000</td>\n",
       "      <td>0</td>\n",
       "    </tr>\n",
       "    <tr>\n",
       "      <th>4250</th>\n",
       "      <td>Bullets Over Broadway</td>\n",
       "      <td>0.493082</td>\n",
       "      <td>6.7</td>\n",
       "      <td>0</td>\n",
       "      <td>0</td>\n",
       "    </tr>\n",
       "    <tr>\n",
       "      <th>4493</th>\n",
       "      <td>To Rome with Love</td>\n",
       "      <td>0.714232</td>\n",
       "      <td>5.5</td>\n",
       "      <td>17000000</td>\n",
       "      <td>73244881</td>\n",
       "    </tr>\n",
       "    <tr>\n",
       "      <th>5079</th>\n",
       "      <td>Anything Else</td>\n",
       "      <td>0.427767</td>\n",
       "      <td>6.1</td>\n",
       "      <td>0</td>\n",
       "      <td>0</td>\n",
       "    </tr>\n",
       "    <tr>\n",
       "      <th>5310</th>\n",
       "      <td>Deconstructing Harry</td>\n",
       "      <td>0.567760</td>\n",
       "      <td>6.9</td>\n",
       "      <td>0</td>\n",
       "      <td>0</td>\n",
       "    </tr>\n",
       "    <tr>\n",
       "      <th>5551</th>\n",
       "      <td>Blue Jasmine</td>\n",
       "      <td>0.926390</td>\n",
       "      <td>6.9</td>\n",
       "      <td>18000000</td>\n",
       "      <td>97505481</td>\n",
       "    </tr>\n",
       "    <tr>\n",
       "      <th>6116</th>\n",
       "      <td>The Purple Rose of Cairo</td>\n",
       "      <td>0.617698</td>\n",
       "      <td>7.0</td>\n",
       "      <td>15000000</td>\n",
       "      <td>10631333</td>\n",
       "    </tr>\n",
       "    <tr>\n",
       "      <th>6248</th>\n",
       "      <td>Match Point</td>\n",
       "      <td>1.051177</td>\n",
       "      <td>7.1</td>\n",
       "      <td>15000000</td>\n",
       "      <td>85306374</td>\n",
       "    </tr>\n",
       "    <tr>\n",
       "      <th>6721</th>\n",
       "      <td>Scoop</td>\n",
       "      <td>0.489898</td>\n",
       "      <td>6.2</td>\n",
       "      <td>4000000</td>\n",
       "      <td>31584901</td>\n",
       "    </tr>\n",
       "    <tr>\n",
       "      <th>7121</th>\n",
       "      <td>Melinda and Melinda</td>\n",
       "      <td>0.425665</td>\n",
       "      <td>5.8</td>\n",
       "      <td>0</td>\n",
       "      <td>20085825</td>\n",
       "    </tr>\n",
       "    <tr>\n",
       "      <th>7278</th>\n",
       "      <td>Everything You Always Wanted to Know About Sex...</td>\n",
       "      <td>0.400301</td>\n",
       "      <td>6.5</td>\n",
       "      <td>2000000</td>\n",
       "      <td>18016290</td>\n",
       "    </tr>\n",
       "    <tr>\n",
       "      <th>7355</th>\n",
       "      <td>Stardust Memories</td>\n",
       "      <td>0.247924</td>\n",
       "      <td>6.3</td>\n",
       "      <td>10000000</td>\n",
       "      <td>10389003</td>\n",
       "    </tr>\n",
       "    <tr>\n",
       "      <th>7553</th>\n",
       "      <td>Cassandra's Dream</td>\n",
       "      <td>0.499794</td>\n",
       "      <td>6.1</td>\n",
       "      <td>0</td>\n",
       "      <td>0</td>\n",
       "    </tr>\n",
       "    <tr>\n",
       "      <th>7835</th>\n",
       "      <td>Manhattan</td>\n",
       "      <td>0.961390</td>\n",
       "      <td>7.7</td>\n",
       "      <td>0</td>\n",
       "      <td>39946780</td>\n",
       "    </tr>\n",
       "    <tr>\n",
       "      <th>7978</th>\n",
       "      <td>Broadway Danny Rose</td>\n",
       "      <td>0.133990</td>\n",
       "      <td>6.6</td>\n",
       "      <td>8000000</td>\n",
       "      <td>10600497</td>\n",
       "    </tr>\n",
       "    <tr>\n",
       "      <th>8020</th>\n",
       "      <td>Zelig</td>\n",
       "      <td>0.388667</td>\n",
       "      <td>7.1</td>\n",
       "      <td>0</td>\n",
       "      <td>11798616</td>\n",
       "    </tr>\n",
       "    <tr>\n",
       "      <th>8119</th>\n",
       "      <td>Mighty Aphrodite</td>\n",
       "      <td>0.773291</td>\n",
       "      <td>6.5</td>\n",
       "      <td>15000000</td>\n",
       "      <td>6700000</td>\n",
       "    </tr>\n",
       "    <tr>\n",
       "      <th>8354</th>\n",
       "      <td>Husbands and Wives</td>\n",
       "      <td>0.466927</td>\n",
       "      <td>5.9</td>\n",
       "      <td>0</td>\n",
       "      <td>0</td>\n",
       "    </tr>\n",
       "    <tr>\n",
       "      <th>8505</th>\n",
       "      <td>Everyone Says I Love You</td>\n",
       "      <td>0.737519</td>\n",
       "      <td>6.3</td>\n",
       "      <td>20000000</td>\n",
       "      <td>0</td>\n",
       "    </tr>\n",
       "    <tr>\n",
       "      <th>8741</th>\n",
       "      <td>Small Time Crooks</td>\n",
       "      <td>0.498771</td>\n",
       "      <td>6.2</td>\n",
       "      <td>0</td>\n",
       "      <td>0</td>\n",
       "    </tr>\n",
       "    <tr>\n",
       "      <th>8917</th>\n",
       "      <td>A Midsummer Night's Sex Comedy</td>\n",
       "      <td>0.481796</td>\n",
       "      <td>5.9</td>\n",
       "      <td>0</td>\n",
       "      <td>0</td>\n",
       "    </tr>\n",
       "    <tr>\n",
       "      <th>9075</th>\n",
       "      <td>Celebrity</td>\n",
       "      <td>0.419482</td>\n",
       "      <td>5.9</td>\n",
       "      <td>0</td>\n",
       "      <td>0</td>\n",
       "    </tr>\n",
       "    <tr>\n",
       "      <th>9238</th>\n",
       "      <td>Crimes and Misdemeanors</td>\n",
       "      <td>0.415913</td>\n",
       "      <td>6.9</td>\n",
       "      <td>19000000</td>\n",
       "      <td>18254702</td>\n",
       "    </tr>\n",
       "    <tr>\n",
       "      <th>9372</th>\n",
       "      <td>Shadows and Fog</td>\n",
       "      <td>0.267440</td>\n",
       "      <td>6.0</td>\n",
       "      <td>14000000</td>\n",
       "      <td>2735731</td>\n",
       "    </tr>\n",
       "    <tr>\n",
       "      <th>9491</th>\n",
       "      <td>Another Woman</td>\n",
       "      <td>0.493264</td>\n",
       "      <td>5.8</td>\n",
       "      <td>0</td>\n",
       "      <td>0</td>\n",
       "    </tr>\n",
       "    <tr>\n",
       "      <th>9640</th>\n",
       "      <td>Radio Days</td>\n",
       "      <td>0.420500</td>\n",
       "      <td>6.2</td>\n",
       "      <td>16000000</td>\n",
       "      <td>0</td>\n",
       "    </tr>\n",
       "    <tr>\n",
       "      <th>9667</th>\n",
       "      <td>September</td>\n",
       "      <td>0.288278</td>\n",
       "      <td>5.5</td>\n",
       "      <td>0</td>\n",
       "      <td>0</td>\n",
       "    </tr>\n",
       "    <tr>\n",
       "      <th>9817</th>\n",
       "      <td>Love and Death</td>\n",
       "      <td>0.491393</td>\n",
       "      <td>7.1</td>\n",
       "      <td>0</td>\n",
       "      <td>0</td>\n",
       "    </tr>\n",
       "    <tr>\n",
       "      <th>9941</th>\n",
       "      <td>Bananas</td>\n",
       "      <td>0.448675</td>\n",
       "      <td>6.5</td>\n",
       "      <td>2000000</td>\n",
       "      <td>0</td>\n",
       "    </tr>\n",
       "    <tr>\n",
       "      <th>10030</th>\n",
       "      <td>Alice</td>\n",
       "      <td>0.420512</td>\n",
       "      <td>5.9</td>\n",
       "      <td>0</td>\n",
       "      <td>0</td>\n",
       "    </tr>\n",
       "    <tr>\n",
       "      <th>10257</th>\n",
       "      <td>Manhattan Murder Mystery</td>\n",
       "      <td>0.755398</td>\n",
       "      <td>6.9</td>\n",
       "      <td>13500000</td>\n",
       "      <td>11285588</td>\n",
       "    </tr>\n",
       "    <tr>\n",
       "      <th>10519</th>\n",
       "      <td>Hannah and Her Sisters</td>\n",
       "      <td>0.476819</td>\n",
       "      <td>7.3</td>\n",
       "      <td>6400000</td>\n",
       "      <td>40084041</td>\n",
       "    </tr>\n",
       "    <tr>\n",
       "      <th>10609</th>\n",
       "      <td>Sleeper</td>\n",
       "      <td>0.568400</td>\n",
       "      <td>6.9</td>\n",
       "      <td>2000000</td>\n",
       "      <td>18344729</td>\n",
       "    </tr>\n",
       "    <tr>\n",
       "      <th>10729</th>\n",
       "      <td>Take the Money and Run</td>\n",
       "      <td>0.589059</td>\n",
       "      <td>6.9</td>\n",
       "      <td>1500000</td>\n",
       "      <td>0</td>\n",
       "    </tr>\n",
       "    <tr>\n",
       "      <th>10804</th>\n",
       "      <td>Interiors</td>\n",
       "      <td>0.149259</td>\n",
       "      <td>6.3</td>\n",
       "      <td>0</td>\n",
       "      <td>0</td>\n",
       "    </tr>\n",
       "    <tr>\n",
       "      <th>10864</th>\n",
       "      <td>What's Up, Tiger Lily?</td>\n",
       "      <td>0.064317</td>\n",
       "      <td>5.4</td>\n",
       "      <td>0</td>\n",
       "      <td>0</td>\n",
       "    </tr>\n",
       "  </tbody>\n",
       "</table>\n",
       "</div>"
      ],
      "text/plain": [
       "                                          original_title  popularity  \\\n",
       "155                                       Irrational Man    1.007054   \n",
       "790                               Magic in the Moonlight    0.889247   \n",
       "1332                                          Annie Hall    1.179653   \n",
       "1489                                      Whatever Works    0.804857   \n",
       "2126                  You Will Meet a Tall Dark Stranger    0.493121   \n",
       "2551                                   Sweet and Lowdown    0.281948   \n",
       "2744                      The Curse of the Jade Scorpion    0.446532   \n",
       "2964                            Vicky Cristina Barcelona    0.866771   \n",
       "3429                                   Midnight in Paris    1.367727   \n",
       "4046                                    Hollywood Ending    0.444428   \n",
       "4250                               Bullets Over Broadway    0.493082   \n",
       "4493                                   To Rome with Love    0.714232   \n",
       "5079                                       Anything Else    0.427767   \n",
       "5310                                Deconstructing Harry    0.567760   \n",
       "5551                                        Blue Jasmine    0.926390   \n",
       "6116                            The Purple Rose of Cairo    0.617698   \n",
       "6248                                         Match Point    1.051177   \n",
       "6721                                               Scoop    0.489898   \n",
       "7121                                 Melinda and Melinda    0.425665   \n",
       "7278   Everything You Always Wanted to Know About Sex...    0.400301   \n",
       "7355                                   Stardust Memories    0.247924   \n",
       "7553                                   Cassandra's Dream    0.499794   \n",
       "7835                                           Manhattan    0.961390   \n",
       "7978                                 Broadway Danny Rose    0.133990   \n",
       "8020                                               Zelig    0.388667   \n",
       "8119                                    Mighty Aphrodite    0.773291   \n",
       "8354                                  Husbands and Wives    0.466927   \n",
       "8505                            Everyone Says I Love You    0.737519   \n",
       "8741                                   Small Time Crooks    0.498771   \n",
       "8917                      A Midsummer Night's Sex Comedy    0.481796   \n",
       "9075                                           Celebrity    0.419482   \n",
       "9238                             Crimes and Misdemeanors    0.415913   \n",
       "9372                                     Shadows and Fog    0.267440   \n",
       "9491                                       Another Woman    0.493264   \n",
       "9640                                          Radio Days    0.420500   \n",
       "9667                                           September    0.288278   \n",
       "9817                                      Love and Death    0.491393   \n",
       "9941                                             Bananas    0.448675   \n",
       "10030                                              Alice    0.420512   \n",
       "10257                           Manhattan Murder Mystery    0.755398   \n",
       "10519                             Hannah and Her Sisters    0.476819   \n",
       "10609                                            Sleeper    0.568400   \n",
       "10729                             Take the Money and Run    0.589059   \n",
       "10804                                          Interiors    0.149259   \n",
       "10864                             What's Up, Tiger Lily?    0.064317   \n",
       "\n",
       "       vote_average    budget    revenue  \n",
       "155             6.1  11000000   27391084  \n",
       "790             6.3         0   32339326  \n",
       "1332            7.6   4000000   38251425  \n",
       "1489            6.7  15000000          0  \n",
       "2126            5.8  22000000          0  \n",
       "2551            6.5         0          0  \n",
       "2744            6.1         0          0  \n",
       "2964            6.7  15000000   96408652  \n",
       "3429            7.2  30000000  151119219  \n",
       "4046            6.2  16000000          0  \n",
       "4250            6.7         0          0  \n",
       "4493            5.5  17000000   73244881  \n",
       "5079            6.1         0          0  \n",
       "5310            6.9         0          0  \n",
       "5551            6.9  18000000   97505481  \n",
       "6116            7.0  15000000   10631333  \n",
       "6248            7.1  15000000   85306374  \n",
       "6721            6.2   4000000   31584901  \n",
       "7121            5.8         0   20085825  \n",
       "7278            6.5   2000000   18016290  \n",
       "7355            6.3  10000000   10389003  \n",
       "7553            6.1         0          0  \n",
       "7835            7.7         0   39946780  \n",
       "7978            6.6   8000000   10600497  \n",
       "8020            7.1         0   11798616  \n",
       "8119            6.5  15000000    6700000  \n",
       "8354            5.9         0          0  \n",
       "8505            6.3  20000000          0  \n",
       "8741            6.2         0          0  \n",
       "8917            5.9         0          0  \n",
       "9075            5.9         0          0  \n",
       "9238            6.9  19000000   18254702  \n",
       "9372            6.0  14000000    2735731  \n",
       "9491            5.8         0          0  \n",
       "9640            6.2  16000000          0  \n",
       "9667            5.5         0          0  \n",
       "9817            7.1         0          0  \n",
       "9941            6.5   2000000          0  \n",
       "10030           5.9         0          0  \n",
       "10257           6.9  13500000   11285588  \n",
       "10519           7.3   6400000   40084041  \n",
       "10609           6.9   2000000   18344729  \n",
       "10729           6.9   1500000          0  \n",
       "10804           6.3         0          0  \n",
       "10864           5.4         0          0  "
      ]
     },
     "execution_count": 39,
     "metadata": {},
     "output_type": "execute_result"
    }
   ],
   "source": [
    "imdb_db[imdb_db['director']=='Woody Allen'][['original_title','popularity','vote_average','budget','revenue']]"
   ]
  },
  {
   "cell_type": "markdown",
   "metadata": {},
   "source": [
    "### Runtime Analysis "
   ]
  },
  {
   "cell_type": "code",
   "execution_count": 40,
   "metadata": {
    "collapsed": false
   },
   "outputs": [
    {
     "data": {
      "text/plain": [
       "90     547\n",
       "95     358\n",
       "100    335\n",
       "93     328\n",
       "97     306\n",
       "96     300\n",
       "91     297\n",
       "94     292\n",
       "98     270\n",
       "88     270\n",
       "92     269\n",
       "89     253\n",
       "105    250\n",
       "101    232\n",
       "99     231\n",
       "102    228\n",
       "85     227\n",
       "103    212\n",
       "87     211\n",
       "106    211\n",
       "108    205\n",
       "104    201\n",
       "86     197\n",
       "107    194\n",
       "110    194\n",
       "112    152\n",
       "84     142\n",
       "120    140\n",
       "111    140\n",
       "109    140\n",
       "      ... \n",
       "294      1\n",
       "366      1\n",
       "470      1\n",
       "550      1\n",
       "566      1\n",
       "31       1\n",
       "500      1\n",
       "372      1\n",
       "292      1\n",
       "252      1\n",
       "257      1\n",
       "417      1\n",
       "561      1\n",
       "705      1\n",
       "34       1\n",
       "194      1\n",
       "210      1\n",
       "226      1\n",
       "242      1\n",
       "250      1\n",
       "282      1\n",
       "338      1\n",
       "19       1\n",
       "51       1\n",
       "223      1\n",
       "235      1\n",
       "20       1\n",
       "220      1\n",
       "236      1\n",
       "219      1\n",
       "Name: runtime, dtype: int64"
      ]
     },
     "execution_count": 40,
     "metadata": {},
     "output_type": "execute_result"
    }
   ],
   "source": [
    "imdb_db['runtime'].value_counts()"
   ]
  },
  {
   "cell_type": "code",
   "execution_count": 41,
   "metadata": {
    "collapsed": false
   },
   "outputs": [
    {
     "data": {
      "text/plain": [
       "count    10865.000000\n",
       "mean       102.071790\n",
       "std         31.382701\n",
       "min          0.000000\n",
       "25%         90.000000\n",
       "50%         99.000000\n",
       "75%        111.000000\n",
       "max        900.000000\n",
       "Name: runtime, dtype: float64"
      ]
     },
     "execution_count": 41,
     "metadata": {},
     "output_type": "execute_result"
    }
   ],
   "source": [
    "imdb_db['runtime'].describe()"
   ]
  },
  {
   "cell_type": "code",
   "execution_count": 42,
   "metadata": {
    "collapsed": false
   },
   "outputs": [
    {
     "data": {
      "text/plain": [
       "0    90\n",
       "dtype: int64"
      ]
     },
     "execution_count": 42,
     "metadata": {},
     "output_type": "execute_result"
    }
   ],
   "source": [
    "imdb_db['runtime'].mode()"
   ]
  },
  {
   "cell_type": "markdown",
   "metadata": {},
   "source": [
    "Printing out the name of the movies with a runtime of 0 minutes."
   ]
  },
  {
   "cell_type": "code",
   "execution_count": 43,
   "metadata": {
    "collapsed": false
   },
   "outputs": [
    {
     "data": {
      "text/plain": [
       "92           Mythica: The Necromancer\n",
       "334                           Ronaldo\n",
       "410                    Anarchy Parlor\n",
       "445     The Exorcism of Molly Hartley\n",
       "486                If There Be Thorns\n",
       "595                         Deep Dark\n",
       "616                      The Outfield\n",
       "1241                        Dance-Off\n",
       "1289                        Treehouse\n",
       "1293                         Tim Maia\n",
       "1849                     Spectacular!\n",
       "2315             Listen to Your Heart\n",
       "2370                  Freshman Father\n",
       "3329         Grande, grosso e Verdone\n",
       "3794             Toi, moi, les autres\n",
       "3857                         Cell 213\n",
       "3884                           eCupid\n",
       "4063           Madea's Family Reunion\n",
       "4138               A Time for Dancing\n",
       "4829                             Rags\n",
       "4944              How to Fall in Love\n",
       "5216            Madea's Class Reunion\n",
       "5695                 Skinwalker Ranch\n",
       "5920           The Food Guide to Love\n",
       "5938                      Go Goa Gone\n",
       "5992                 Amiche da morire\n",
       "6040            The Vatican Exorcisms\n",
       "6383         The 12 Dogs of Christmas\n",
       "6552                  Quatre Ã©toiles\n",
       "6934                    Jean-Philippe\n",
       "8874                  Mission Kashmir\n",
       "Name: original_title, dtype: object"
      ]
     },
     "execution_count": 43,
     "metadata": {},
     "output_type": "execute_result"
    }
   ],
   "source": [
    "imdb_db[imdb_db['runtime']==0]['original_title']"
   ]
  },
  {
   "cell_type": "markdown",
   "metadata": {},
   "source": [
    "Therefore there are 31 movies for which the runtime is mentioned as zero."
   ]
  },
  {
   "cell_type": "code",
   "execution_count": 44,
   "metadata": {
    "collapsed": false
   },
   "outputs": [
    {
     "data": {
      "text/plain": [
       "<matplotlib.text.Text at 0x113964e0>"
      ]
     },
     "execution_count": 44,
     "metadata": {},
     "output_type": "execute_result"
    },
    {
     "data": {
      "image/png": "[encoded data removed]",
      "text/plain": [
       "<matplotlib.figure.Figure at 0x1042e588>"
      ]
     },
     "metadata": {},
     "output_type": "display_data"
    }
   ],
   "source": [
    "imdb_db.runtime.value_counts()[:10].plot.pie(autopct='%1.1f%%',figsize=(10,10))\n",
    "plt.title('Top 10 runtime of movies')"
   ]
  },
  {
   "cell_type": "code",
   "execution_count": 45,
   "metadata": {
    "collapsed": false
   },
   "outputs": [
    {
     "data": {
      "text/plain": [
       "<matplotlib.axes._subplots.AxesSubplot at 0x134edba8>"
      ]
     },
     "execution_count": 45,
     "metadata": {},
     "output_type": "execute_result"
    },
    {
     "data": {
      "image/png": "[encoded data removed]",
      "text/plain": [
       "<matplotlib.figure.Figure at 0x1347f1d0>"
      ]
     },
     "metadata": {},
     "output_type": "display_data"
    }
   ],
   "source": [
    "sns.distplot(imdb_db.runtime,hist=True)"
   ]
  },
  {
   "cell_type": "markdown",
   "metadata": {},
   "source": [
    "To get a better understanding of the runtime variation, plotting the values having runtime between 0 and 200 (as it is the prominent region of our data)"
   ]
  },
  {
   "cell_type": "code",
   "execution_count": 46,
   "metadata": {
    "collapsed": false
   },
   "outputs": [
    {
     "data": {
      "text/plain": [
       "<matplotlib.axes._subplots.AxesSubplot at 0x139a22b0>"
      ]
     },
     "execution_count": 46,
     "metadata": {},
     "output_type": "execute_result"
    },
    {
     "data": {
      "image/png": "[encoded data removed]",
      "text/plain": [
       "<matplotlib.figure.Figure at 0x139c3198>"
      ]
     },
     "metadata": {},
     "output_type": "display_data"
    }
   ],
   "source": [
    "sns.distplot(imdb_db[imdb_db['runtime']<200].runtime,hist=True)"
   ]
  },
  {
   "cell_type": "markdown",
   "metadata": {},
   "source": [
    "Thus, it can be inferred that the most common runtime for movies is about 90-100 minutes."
   ]
  },
  {
   "cell_type": "markdown",
   "metadata": {},
   "source": [
    "## Conclusions"
   ]
  },
  {
   "cell_type": "markdown",
   "metadata": {},
   "source": [
    "**Question:** Total number of movies released from year to year? \n",
    "\n",
    "**Answer:** There is a general upward trend in the number of movie released over the years, with a maximum 700 being released in 2014"
   ]
  },
  {
   "cell_type": "markdown",
   "metadata": {},
   "source": [
    "**Question:** How does the budget and revenue of movies vary from year to year? What is the gross profit made by the industry based on the data available here? Is there a relation between the budget and revenue?\n",
    "\n",
    "**Answer:** The budget and revenue data variation is visualized, along with the gross profit over the years.\n",
    "A 79% correlation was found between budget and revenue, which reduced to 69% when the data having 0 value was not selected.\n",
    "This value though cannot be indicative of the whole dataset let alone the industry as a whole as the number of samples considered is 3854 instead of all the 10865 entries. A better prediction could be made if the revenue and budget values were available for all the movies."
   ]
  },
  {
   "cell_type": "markdown",
   "metadata": {},
   "source": [
    "**Question:** Which are the most popular movies? Which are the highly rated movies? Is there a correlation between the popularity and ratings of the movies?\n",
    "\n",
    "**Answer:** 'Jurassic World' is the most popular movie, while 'The Story of Film: An Odyssey' is the highest rated movie. The top 10 movies as per their popularity as well their ratings are as listed above. The gross profit for the most popular movies is also calculated. A 21% correlation was found between the popularity and ratings of the movies in the dataset."
   ]
  },
  {
   "cell_type": "markdown",
   "metadata": {},
   "source": [
    "**Question:** Which genres of movies are released the most?\n",
    "\n",
    "**Answer:** The most released movies belong to the following genres(in order):\n",
    "   \n",
    "    •\tDrama\n",
    "    •\tComedy\n",
    "    •\tThriller\n",
    "    •\tAction\n",
    "    •\tRomance"
   ]
  },
  {
   "cell_type": "markdown",
   "metadata": {},
   "source": [
    "**Question:** Which director has directed the maximum number of movies?\n",
    "\n",
    "**Answer:** Woody Allen has directed the most movies with 'Manhattan' being his highest-rated movie."
   ]
  },
  {
   "cell_type": "markdown",
   "metadata": {},
   "source": [
    "**Question:** How does the runtime of movies vary?\n",
    "    \n",
    "**Answer:** The most common runtime for movies is about 90-100 minutes with the longest movie being of 900 minutes. The average running time is about 102 minutes. There are also 31 movies for which the runtime is listed as 0, which is not possible and hence is a limitation to getting the actual average movie running time."
   ]
  },
  {
   "cell_type": "markdown",
   "metadata": {},
   "source": [
    "## References"
   ]
  },
  {
   "cell_type": "markdown",
   "metadata": {},
   "source": [
    "    •\thttp://pandas.pydata.org\n",
    "    •\thttps://stackoverflow.com\n",
    "    •\thttps://seaborn.pydata.org\n",
    "    •\thttps://matplotlib.org\n",
    "    •\thttp://onlinestatbook.com"
   ]
  }
 ],
 "metadata": {
  "anaconda-cloud": {},
  "kernelspec": {
   "display_name": "Python [conda env:DAND]",
   "language": "python",
   "name": "conda-env-DAND-py"
  },
  "language_info": {
   "codemirror_mode": {
    "name": "ipython",
    "version": 2
   },
   "file_extension": ".py",
   "mimetype": "text/x-python",
   "name": "python",
   "nbconvert_exporter": "python",
   "pygments_lexer": "ipython2",
   "version": "2.7.12"
  }
 },
 "nbformat": 4,
 "nbformat_minor": 2
}
